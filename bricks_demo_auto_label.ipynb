{
 "cells": [
  {
   "cell_type": "markdown",
   "metadata": {},
   "source": [
    "# Auto Labelling (Demo)\n",
    "This Jupyter notebook presents an example that allows users to label movie categories (original example)."
   ]
  },
  {
   "cell_type": "code",
   "execution_count": 1,
   "metadata": {},
   "outputs": [],
   "source": [
    "import pandas as pd\n",
    "import numpy as np\n",
    "\n",
    "from src.toolkit.plot import *\n",
    "from src.toolkit.autolabel import *\n",
    "\n",
    "from sklearn.naive_bayes import MultinomialNB"
   ]
  },
  {
   "cell_type": "markdown",
   "metadata": {},
   "source": [
    "## Data Input\n",
    "* CSV file containing text data in the first column\n",
    "    * A subset of [Full MovieLens Dataset](https://www.kaggle.com/rounakbanik/the-movies-dataset/home) is used for demonstration purposes.\n",
    "* Dictionary containing labels for each category."
   ]
  },
  {
   "cell_type": "code",
   "execution_count": 2,
   "metadata": {},
   "outputs": [],
   "source": [
    "texts_path = \"data/movies500.csv\"\n",
    "labels_path = \"data/labels.csv\"\n",
    "enriched_labels_path = \"data/enriched_labels.csv\"\n",
    "labelled_path = \"data/movies500_labelled.csv\"\n",
    "stopwords_path = \"data/stopwords.csv\"\n",
    "\n",
    "movies = pd.read_csv(texts_path)\n",
    "labels = pd.read_csv(labels_path)"
   ]
  },
  {
   "cell_type": "code",
   "execution_count": 3,
   "metadata": {},
   "outputs": [
    {
     "data": {
      "text/html": [
       "<div>\n",
       "<style scoped>\n",
       "    .dataframe tbody tr th:only-of-type {\n",
       "        vertical-align: middle;\n",
       "    }\n",
       "\n",
       "    .dataframe tbody tr th {\n",
       "        vertical-align: top;\n",
       "    }\n",
       "\n",
       "    .dataframe thead th {\n",
       "        text-align: right;\n",
       "    }\n",
       "</style>\n",
       "<table border=\"1\" class=\"dataframe\">\n",
       "  <thead>\n",
       "    <tr style=\"text-align: right;\">\n",
       "      <th></th>\n",
       "      <th>overview</th>\n",
       "      <th>Action</th>\n",
       "      <th>Romance</th>\n",
       "      <th>Science Fiction</th>\n",
       "      <th>Thriller</th>\n",
       "      <th>War</th>\n",
       "      <th>Western</th>\n",
       "    </tr>\n",
       "  </thead>\n",
       "  <tbody>\n",
       "    <tr>\n",
       "      <th>0</th>\n",
       "      <td>A family wedding reignites the ancient feud be...</td>\n",
       "      <td>0</td>\n",
       "      <td>1</td>\n",
       "      <td>0</td>\n",
       "      <td>0</td>\n",
       "      <td>0</td>\n",
       "      <td>0</td>\n",
       "    </tr>\n",
       "    <tr>\n",
       "      <th>1</th>\n",
       "      <td>Cheated on, mistreated and stepped on, the wom...</td>\n",
       "      <td>0</td>\n",
       "      <td>1</td>\n",
       "      <td>0</td>\n",
       "      <td>0</td>\n",
       "      <td>0</td>\n",
       "      <td>0</td>\n",
       "    </tr>\n",
       "    <tr>\n",
       "      <th>2</th>\n",
       "      <td>Obsessive master thief, Neil McCauley leads a ...</td>\n",
       "      <td>1</td>\n",
       "      <td>0</td>\n",
       "      <td>0</td>\n",
       "      <td>1</td>\n",
       "      <td>0</td>\n",
       "      <td>0</td>\n",
       "    </tr>\n",
       "    <tr>\n",
       "      <th>3</th>\n",
       "      <td>An ugly duckling having undergone a remarkable...</td>\n",
       "      <td>0</td>\n",
       "      <td>1</td>\n",
       "      <td>0</td>\n",
       "      <td>0</td>\n",
       "      <td>0</td>\n",
       "      <td>0</td>\n",
       "    </tr>\n",
       "    <tr>\n",
       "      <th>4</th>\n",
       "      <td>A mischievous young boy, Tom Sawyer, witnesses...</td>\n",
       "      <td>1</td>\n",
       "      <td>0</td>\n",
       "      <td>0</td>\n",
       "      <td>0</td>\n",
       "      <td>0</td>\n",
       "      <td>0</td>\n",
       "    </tr>\n",
       "  </tbody>\n",
       "</table>\n",
       "</div>"
      ],
      "text/plain": [
       "                                            overview  Action  Romance  \\\n",
       "0  A family wedding reignites the ancient feud be...       0        1   \n",
       "1  Cheated on, mistreated and stepped on, the wom...       0        1   \n",
       "2  Obsessive master thief, Neil McCauley leads a ...       1        0   \n",
       "3  An ugly duckling having undergone a remarkable...       0        1   \n",
       "4  A mischievous young boy, Tom Sawyer, witnesses...       1        0   \n",
       "\n",
       "   Science Fiction  Thriller  War  Western  \n",
       "0                0         0    0        0  \n",
       "1                0         0    0        0  \n",
       "2                0         1    0        0  \n",
       "3                0         0    0        0  \n",
       "4                0         0    0        0  "
      ]
     },
     "execution_count": 3,
     "metadata": {},
     "output_type": "execute_result"
    }
   ],
   "source": [
    "movies.head()"
   ]
  },
  {
   "cell_type": "code",
   "execution_count": 4,
   "metadata": {},
   "outputs": [
    {
     "data": {
      "image/png": "[encoded data removed]",
      "text/plain": [
       "<Figure size 504x288 with 1 Axes>"
      ]
     },
     "metadata": {
      "needs_background": "light"
     },
     "output_type": "display_data"
    }
   ],
   "source": [
    "moviesGenre = movies.iloc[:, 1:]\n",
    "numGenres = list(range(5))\n",
    "labelCount = [round((moviesGenre.sum(axis=1)==i).mean(),3)*100 for i in range(5)]\n",
    "\n",
    "barplot(numGenres, \n",
    "        labelCount, \n",
    "        figsize=(7,4), \n",
    "        title='Barplot of Movie proportion Vs No. of Genres',\n",
    "        x_label='No. of Genres',\n",
    "        y_label='% of Movies')"
   ]
  },
  {
   "cell_type": "code",
   "execution_count": 5,
   "metadata": {},
   "outputs": [
    {
     "data": {
      "image/png": "[encoded data removed]",
      "text/plain": [
       "<Figure size 720x288 with 1 Axes>"
      ]
     },
     "metadata": {
      "needs_background": "light"
     },
     "output_type": "display_data"
    }
   ],
   "source": [
    "genreTitle = moviesGenre.columns\n",
    "movieCount = (round(moviesGenre.mean(axis=0),3)*100).tolist()\n",
    "\n",
    "barplot(genreTitle, \n",
    "        movieCount, \n",
    "        figsize=(10, 4), \n",
    "        title='Barplot of Movie proportion Vs Genre',\n",
    "        x_label='Genre',\n",
    "        y_label='% of Movies')"
   ]
  },
  {
   "cell_type": "markdown",
   "metadata": {},
   "source": [
    "## Data Preprocessing\n",
    "\n",
    "* Prepare text. Some operations are removng special characters, digits and stopwords etc. \n",
    "* Join bigrams that appear frequently into one word."
   ]
  },
  {
   "cell_type": "code",
   "execution_count": 7,
   "metadata": {},
   "outputs": [],
   "source": [
    "corpus = movies['overview']\n",
    "\n",
    "# Text Preprocessing\n",
    "preprocessed_corpus = corpus_preprocess(corpus=corpus, stopwords_path=stopwords_path)\n",
    "\n",
    "# Replace bigrams    \n",
    "movies['overview'] = corpus_replace_bigrams(min_df=50, max_df=500, corpus=preprocessed_corpus)"
   ]
  },
  {
   "cell_type": "markdown",
   "metadata": {},
   "source": [
    "## Model Training\n",
    "* Identifies key labels and enriches dictionary\n",
    "* **Note** What happens here is due to the skewed training set where there are limited SF etc."
   ]
  },
  {
   "cell_type": "code",
   "execution_count": 8,
   "metadata": {},
   "outputs": [
    {
     "data": {
      "text/html": [
       "<div>\n",
       "<style scoped>\n",
       "    .dataframe tbody tr th:only-of-type {\n",
       "        vertical-align: middle;\n",
       "    }\n",
       "\n",
       "    .dataframe tbody tr th {\n",
       "        vertical-align: top;\n",
       "    }\n",
       "\n",
       "    .dataframe thead th {\n",
       "        text-align: right;\n",
       "    }\n",
       "</style>\n",
       "<table border=\"1\" class=\"dataframe\">\n",
       "  <thead>\n",
       "    <tr style=\"text-align: right;\">\n",
       "      <th></th>\n",
       "      <th>Action</th>\n",
       "      <th>Romance</th>\n",
       "      <th>Science Fiction</th>\n",
       "      <th>Thriller</th>\n",
       "      <th>War</th>\n",
       "      <th>Western</th>\n",
       "    </tr>\n",
       "  </thead>\n",
       "  <tbody>\n",
       "    <tr>\n",
       "      <th>0</th>\n",
       "      <td>terrorist</td>\n",
       "      <td>college</td>\n",
       "      <td>science</td>\n",
       "      <td>murder</td>\n",
       "      <td>ii</td>\n",
       "      <td>criminal</td>\n",
       "    </tr>\n",
       "    <tr>\n",
       "      <th>1</th>\n",
       "      <td>drug</td>\n",
       "      <td>girlfriend</td>\n",
       "      <td>NaN</td>\n",
       "      <td>criminal</td>\n",
       "      <td>war</td>\n",
       "      <td>NaN</td>\n",
       "    </tr>\n",
       "    <tr>\n",
       "      <th>2</th>\n",
       "      <td>operation</td>\n",
       "      <td>french</td>\n",
       "      <td>NaN</td>\n",
       "      <td>crime</td>\n",
       "      <td>NaN</td>\n",
       "      <td>NaN</td>\n",
       "    </tr>\n",
       "    <tr>\n",
       "      <th>3</th>\n",
       "      <td>cia</td>\n",
       "      <td>romantic</td>\n",
       "      <td>NaN</td>\n",
       "      <td>detective</td>\n",
       "      <td>NaN</td>\n",
       "      <td>NaN</td>\n",
       "    </tr>\n",
       "    <tr>\n",
       "      <th>4</th>\n",
       "      <td>undercover</td>\n",
       "      <td>marry</td>\n",
       "      <td>NaN</td>\n",
       "      <td>killer</td>\n",
       "      <td>NaN</td>\n",
       "      <td>NaN</td>\n",
       "    </tr>\n",
       "  </tbody>\n",
       "</table>\n",
       "</div>"
      ],
      "text/plain": [
       "       Action     Romance Science Fiction   Thriller  War   Western\n",
       "0   terrorist     college         science     murder   ii  criminal\n",
       "1        drug  girlfriend             NaN   criminal  war       NaN\n",
       "2   operation      french             NaN      crime  NaN       NaN\n",
       "3         cia    romantic             NaN  detective  NaN       NaN\n",
       "4  undercover       marry             NaN     killer  NaN       NaN"
      ]
     },
     "execution_count": 8,
     "metadata": {},
     "output_type": "execute_result"
    }
   ],
   "source": [
    "labels.head(10)"
   ]
  },
  {
   "cell_type": "code",
   "execution_count": 9,
   "metadata": {
    "scrolled": false
   },
   "outputs": [
    {
     "data": {
      "text/html": [
       "<div>\n",
       "<style scoped>\n",
       "    .dataframe tbody tr th:only-of-type {\n",
       "        vertical-align: middle;\n",
       "    }\n",
       "\n",
       "    .dataframe tbody tr th {\n",
       "        vertical-align: top;\n",
       "    }\n",
       "\n",
       "    .dataframe thead th {\n",
       "        text-align: right;\n",
       "    }\n",
       "</style>\n",
       "<table border=\"1\" class=\"dataframe\">\n",
       "  <thead>\n",
       "    <tr style=\"text-align: right;\">\n",
       "      <th></th>\n",
       "      <th>Action</th>\n",
       "      <th>Romance</th>\n",
       "      <th>Science Fiction</th>\n",
       "      <th>Thriller</th>\n",
       "      <th>War</th>\n",
       "      <th>Western</th>\n",
       "    </tr>\n",
       "  </thead>\n",
       "  <tbody>\n",
       "    <tr>\n",
       "      <th>0</th>\n",
       "      <td>illegal</td>\n",
       "      <td>world</td>\n",
       "      <td>world</td>\n",
       "      <td>dealer</td>\n",
       "      <td>world</td>\n",
       "      <td>assignment</td>\n",
       "    </tr>\n",
       "    <tr>\n",
       "      <th>1</th>\n",
       "      <td>assignment</td>\n",
       "      <td>track</td>\n",
       "      <td>assign</td>\n",
       "      <td>track</td>\n",
       "      <td>murder</td>\n",
       "      <td>terrorist</td>\n",
       "    </tr>\n",
       "    <tr>\n",
       "      <th>2</th>\n",
       "      <td>district</td>\n",
       "      <td>best</td>\n",
       "      <td>murder</td>\n",
       "      <td>murder</td>\n",
       "      <td>singer</td>\n",
       "      <td>evidence</td>\n",
       "    </tr>\n",
       "    <tr>\n",
       "      <th>3</th>\n",
       "      <td>terrorist</td>\n",
       "      <td>challenge</td>\n",
       "      <td>assault</td>\n",
       "      <td>undercover</td>\n",
       "      <td>bodyguard</td>\n",
       "      <td>best</td>\n",
       "    </tr>\n",
       "    <tr>\n",
       "      <th>4</th>\n",
       "      <td>undercover</td>\n",
       "      <td>room</td>\n",
       "      <td>washington</td>\n",
       "      <td>drug</td>\n",
       "      <td>best</td>\n",
       "      <td>room</td>\n",
       "    </tr>\n",
       "    <tr>\n",
       "      <th>5</th>\n",
       "      <td>drug</td>\n",
       "      <td>french</td>\n",
       "      <td>terrorist</td>\n",
       "      <td>miami</td>\n",
       "      <td>room</td>\n",
       "      <td>japanese</td>\n",
       "    </tr>\n",
       "    <tr>\n",
       "      <th>6</th>\n",
       "      <td>consequence</td>\n",
       "      <td>farm</td>\n",
       "      <td>havoc</td>\n",
       "      <td>danger</td>\n",
       "      <td>french</td>\n",
       "      <td>guard</td>\n",
       "    </tr>\n",
       "    <tr>\n",
       "      <th>7</th>\n",
       "      <td>room</td>\n",
       "      <td>havoc</td>\n",
       "      <td>reluctant</td>\n",
       "      <td>consequence</td>\n",
       "      <td>farm</td>\n",
       "      <td>operation</td>\n",
       "    </tr>\n",
       "    <tr>\n",
       "      <th>8</th>\n",
       "      <td>japanese</td>\n",
       "      <td>professional</td>\n",
       "      <td>killer</td>\n",
       "      <td>file</td>\n",
       "      <td>paris</td>\n",
       "      <td>throw</td>\n",
       "    </tr>\n",
       "    <tr>\n",
       "      <th>9</th>\n",
       "      <td>file</td>\n",
       "      <td>compete</td>\n",
       "      <td>reason</td>\n",
       "      <td>operation</td>\n",
       "      <td>chase</td>\n",
       "      <td>current</td>\n",
       "    </tr>\n",
       "  </tbody>\n",
       "</table>\n",
       "</div>"
      ],
      "text/plain": [
       "        Action       Romance Science Fiction     Thriller        War  \\\n",
       "0      illegal         world           world       dealer      world   \n",
       "1   assignment         track          assign        track     murder   \n",
       "2     district          best          murder       murder     singer   \n",
       "3    terrorist     challenge         assault   undercover  bodyguard   \n",
       "4   undercover          room      washington         drug       best   \n",
       "5         drug        french       terrorist        miami       room   \n",
       "6  consequence          farm           havoc       danger     french   \n",
       "7         room         havoc       reluctant  consequence       farm   \n",
       "8     japanese  professional          killer         file      paris   \n",
       "9         file       compete          reason    operation      chase   \n",
       "\n",
       "      Western  \n",
       "0  assignment  \n",
       "1   terrorist  \n",
       "2    evidence  \n",
       "3        best  \n",
       "4        room  \n",
       "5    japanese  \n",
       "6       guard  \n",
       "7   operation  \n",
       "8       throw  \n",
       "9     current  "
      ]
     },
     "execution_count": 9,
     "metadata": {},
     "output_type": "execute_result"
    }
   ],
   "source": [
    "autoLabeller = AutoLabeller(labels, corpus, movies)\n",
    "enriched_labels = autoLabeller.train(n_words=20)\n",
    "\n",
    "enriched_labels.to_csv(enriched_labels_path)\n",
    "enriched_labels.head(10)"
   ]
  },
  {
   "cell_type": "markdown",
   "metadata": {},
   "source": [
    "## Model Application\n",
    "* Utilises enriched labels\n",
    "* Trains and applies multinomial naive bayes on input dataset\n",
    "* **Can take some time to run**"
   ]
  },
  {
   "cell_type": "code",
   "execution_count": 10,
   "metadata": {},
   "outputs": [],
   "source": [
    "mnb = MultinomialNB()\n",
    "ypred = autoLabeller.apply(mnb)"
   ]
  },
  {
   "cell_type": "markdown",
   "metadata": {},
   "source": [
    "## Output Data\n",
    "* Csv file containing labels for each row"
   ]
  },
  {
   "cell_type": "code",
   "execution_count": 12,
   "metadata": {
    "scrolled": false
   },
   "outputs": [
    {
     "data": {
      "text/html": [
       "<div>\n",
       "<style scoped>\n",
       "    .dataframe tbody tr th:only-of-type {\n",
       "        vertical-align: middle;\n",
       "    }\n",
       "\n",
       "    .dataframe tbody tr th {\n",
       "        vertical-align: top;\n",
       "    }\n",
       "\n",
       "    .dataframe thead th {\n",
       "        text-align: right;\n",
       "    }\n",
       "</style>\n",
       "<table border=\"1\" class=\"dataframe\">\n",
       "  <thead>\n",
       "    <tr style=\"text-align: right;\">\n",
       "      <th></th>\n",
       "      <th>overview</th>\n",
       "      <th>Action</th>\n",
       "      <th>Romance</th>\n",
       "      <th>Science Fiction</th>\n",
       "      <th>Thriller</th>\n",
       "      <th>War</th>\n",
       "      <th>Western</th>\n",
       "    </tr>\n",
       "  </thead>\n",
       "  <tbody>\n",
       "    <tr>\n",
       "      <th>0</th>\n",
       "      <td>family wedding reignite ancient feud nextdoor ...</td>\n",
       "      <td>0.0</td>\n",
       "      <td>1.0</td>\n",
       "      <td>0.0</td>\n",
       "      <td>1.0</td>\n",
       "      <td>1.0</td>\n",
       "      <td>0.0</td>\n",
       "    </tr>\n",
       "    <tr>\n",
       "      <th>1</th>\n",
       "      <td>cheat mistreat step woman hold breath wait elu...</td>\n",
       "      <td>0.0</td>\n",
       "      <td>0.0</td>\n",
       "      <td>0.0</td>\n",
       "      <td>0.0</td>\n",
       "      <td>1.0</td>\n",
       "      <td>0.0</td>\n",
       "    </tr>\n",
       "    <tr>\n",
       "      <th>2</th>\n",
       "      <td>obsessive master thief lead topnotch crew vari...</td>\n",
       "      <td>0.0</td>\n",
       "      <td>1.0</td>\n",
       "      <td>1.0</td>\n",
       "      <td>1.0</td>\n",
       "      <td>0.0</td>\n",
       "      <td>0.0</td>\n",
       "    </tr>\n",
       "    <tr>\n",
       "      <th>3</th>\n",
       "      <td>duckling undergone remarkable change harbor fe...</td>\n",
       "      <td>1.0</td>\n",
       "      <td>0.0</td>\n",
       "      <td>0.0</td>\n",
       "      <td>0.0</td>\n",
       "      <td>1.0</td>\n",
       "      <td>0.0</td>\n",
       "    </tr>\n",
       "    <tr>\n",
       "      <th>4</th>\n",
       "      <td>mischievous young boy witness murder becomes f...</td>\n",
       "      <td>0.0</td>\n",
       "      <td>0.0</td>\n",
       "      <td>1.0</td>\n",
       "      <td>0.0</td>\n",
       "      <td>0.0</td>\n",
       "      <td>0.0</td>\n",
       "    </tr>\n",
       "  </tbody>\n",
       "</table>\n",
       "</div>"
      ],
      "text/plain": [
       "                                            overview  Action  Romance  \\\n",
       "0  family wedding reignite ancient feud nextdoor ...     0.0      1.0   \n",
       "1  cheat mistreat step woman hold breath wait elu...     0.0      0.0   \n",
       "2  obsessive master thief lead topnotch crew vari...     0.0      1.0   \n",
       "3  duckling undergone remarkable change harbor fe...     1.0      0.0   \n",
       "4  mischievous young boy witness murder becomes f...     0.0      0.0   \n",
       "\n",
       "   Science Fiction  Thriller  War  Western  \n",
       "0              0.0       1.0  1.0      0.0  \n",
       "1              0.0       0.0  1.0      0.0  \n",
       "2              1.0       1.0  0.0      0.0  \n",
       "3              0.0       0.0  1.0      0.0  \n",
       "4              1.0       0.0  0.0      0.0  "
      ]
     },
     "execution_count": 12,
     "metadata": {},
     "output_type": "execute_result"
    }
   ],
   "source": [
    "output = movies[[\"overview\"]].join(ypred)\n",
    "output.to_csv(labelled_path)\n",
    "output.head(5)"
   ]
  },
  {
   "cell_type": "code",
   "execution_count": null,
   "metadata": {},
   "outputs": [],
   "source": []
  }
 ],
 "metadata": {
  "kernelspec": {
   "display_name": "Python 3",
   "language": "python",
   "name": "python3"
  },
  "language_info": {
   "codemirror_mode": {
    "name": "ipython",
    "version": 3
   },
   "file_extension": ".py",
   "mimetype": "text/x-python",
   "name": "python",
   "nbconvert_exporter": "python",
   "pygments_lexer": "ipython3",
   "version": "3.6.8"
  }
 },
 "nbformat": 4,
 "nbformat_minor": 2
}
