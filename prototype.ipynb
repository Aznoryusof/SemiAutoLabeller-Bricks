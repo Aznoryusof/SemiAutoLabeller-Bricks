{
 "cells": [
  {
   "cell_type": "code",
   "execution_count": 3,
   "metadata": {},
   "outputs": [
    {
     "data": {
      "application/vnd.jupyter.widget-view+json": {
       "model_id": "068ff3e69f5e480e899f36811bf5c651",
       "version_major": 2,
       "version_minor": 0
      },
      "text/plain": [
       "VBox(children=(HTML(value=\"<h1>Semi Automatic Labeller (Corgie) - Demo</h1><font size=3>\\n                    …"
      ]
     },
     "metadata": {},
     "output_type": "display_data"
    }
   ],
   "source": [
    "from src.toolkit.display import run_model\n",
    "run_model()"
   ]
  }
 ],
 "metadata": {
  "kernelspec": {
   "display_name": "Python 3",
   "language": "python",
   "name": "python3"
  },
  "language_info": {
   "codemirror_mode": {
    "name": "ipython",
    "version": 3
   },
   "file_extension": ".py",
   "mimetype": "text/x-python",
   "name": "python",
   "nbconvert_exporter": "python",
   "pygments_lexer": "ipython3",
   "version": "3.6.5"
  },
  "widgets": {
   "application/vnd.jupyter.widget-state+json": {
    "state": {
     "068ff3e69f5e480e899f36811bf5c651": {
      "model_module": "@jupyter-widgets/controls",
      "model_module_version": "1.5.0",
      "model_name": "VBoxModel",
      "state": {
       "children": [
        "IPY_MODEL_2074ab0fe7724ca2b2a0705a504b20e8",
        "IPY_MODEL_21414098e9754a87985b9c3f213fab43",
        "IPY_MODEL_7f9442a24cab401884a99593fc13ed1a"
       ],
       "layout": "IPY_MODEL_3b9fdaee09eb49c595d0a07c5dc61fa0"
      }
     },
     "07f368ff47ec454c97a742a8f0e2fc78": {
      "model_module": "ipysheet",
      "model_module_version": "~0.4.3",
      "model_name": "CellRangeModel",
      "state": {
       "_view_module": null,
       "_view_module_version": "",
       "choice": [],
       "column_end": 3,
       "column_start": 3,
       "numeric_format": null,
       "row_end": 8,
       "row_start": 0,
       "squeeze_row": false,
       "type": "text",
       "value": [
        "iraq",
        "soldier",
        "washington",
        "international",
        "official_say",
        "competition",
        "nan",
        "nan",
        "nan"
       ]
      }
     },
     "0927b864e1424e7491822f026ad06d65": {
      "model_module": "@jupyter-widgets/base",
      "model_module_version": "1.2.0",
      "model_name": "LayoutModel",
      "state": {}
     },
     "125fd955693842fb8e8b0eb83dc6ae8d": {
      "model_module": "@jupyter-widgets/base",
      "model_module_version": "1.2.0",
      "model_name": "LayoutModel",
      "state": {}
     },
     "138d78cad14e437da6d31a496a2dbb97": {
      "model_module": "@jupyter-widgets/controls",
      "model_module_version": "1.5.0",
      "model_name": "DescriptionStyleModel",
      "state": {
       "description_width": ""
      }
     },
     "18a4c74ffdf645c28ce054442137ecf9": {
      "model_module": "ipysheet",
      "model_module_version": "~0.4.3",
      "model_name": "CellRangeModel",
      "state": {
       "_view_module": null,
       "_view_module_version": "",
       "choice": [],
       "column_end": 3,
       "column_start": 3,
       "numeric_format": null,
       "row_end": 8,
       "row_start": 0,
       "squeeze_row": false,
       "type": "text",
       "value": [
        "iraq",
        "soldier",
        "washington",
        "international",
        "official_say",
        "competition",
        "nan",
        "nan",
        "nan"
       ]
      }
     },
     "19a305b3caa24836bbdfde8b35ddf01c": {
      "model_module": "ipysheet",
      "model_module_version": "~0.4.3",
      "model_name": "CellRangeModel",
      "state": {
       "_view_module": null,
       "_view_module_version": "",
       "choice": [],
       "column_end": 2,
       "column_start": 2,
       "numeric_format": null,
       "row_end": 8,
       "row_start": 0,
       "squeeze_row": false,
       "type": "text",
       "value": [
        "olympic",
        "champion",
        "basketball",
        "champion",
        "silver",
        "medal",
        "season",
        "victory",
        "cup"
       ]
      }
     },
     "1a27fe2834554d548add7826d82a1431": {
      "model_module": "@jupyter-widgets/controls",
      "model_module_version": "1.5.0",
      "model_name": "HTMLModel",
      "state": {
       "layout": "IPY_MODEL_3d3a67f6b54a42e9a96caaec58155e59",
       "placeholder": "Enriched Dictionary",
       "style": "IPY_MODEL_aa961061f0514c3fbd9641ae299d2cc2",
       "value": "<h1>Enriched Dictionary</h1><font size=3>This is an enriched version of the input label dictionary.</font>"
      }
     },
     "1d5e06d4c3924ca7be5764cc1936d485": {
      "model_module": "ipysheet",
      "model_module_version": "~0.4.3",
      "model_name": "SheetModel",
      "state": {
       "cells": [
        "IPY_MODEL_e5994219b541466c86c6dbf1d5f7b49a",
        "IPY_MODEL_46e421b87aa64f11a87cabd3159fc68b",
        "IPY_MODEL_19a305b3caa24836bbdfde8b35ddf01c",
        "IPY_MODEL_07f368ff47ec454c97a742a8f0e2fc78"
       ],
       "column_headers": [
        "Business",
        "SciTech",
        "Sports",
        "World"
       ],
       "layout": "IPY_MODEL_becb27136aa74e55946471978484efb3",
       "row_headers": [
        "0",
        "1",
        "2",
        "3",
        "4",
        "5",
        "6",
        "7",
        "8"
       ],
       "rows": 9
      }
     },
     "1e1523db36e242689fb9e72c6c702fa5": {
      "model_module": "@jupyter-widgets/base",
      "model_module_version": "1.2.0",
      "model_name": "LayoutModel",
      "state": {}
     },
     "1fa348a0a1ed4590b39b64837f435ff4": {
      "model_module": "@jupyter-widgets/controls",
      "model_module_version": "1.5.0",
      "model_name": "HBoxModel",
      "state": {
       "children": [
        "IPY_MODEL_a3aee531b9e74c8cb5f658775717503c",
        "IPY_MODEL_baa8caaba2b84faf8f8dfee071081627"
       ],
       "layout": "IPY_MODEL_0927b864e1424e7491822f026ad06d65"
      }
     },
     "2074ab0fe7724ca2b2a0705a504b20e8": {
      "model_module": "@jupyter-widgets/controls",
      "model_module_version": "1.5.0",
      "model_name": "HTMLModel",
      "state": {
       "layout": "IPY_MODEL_601e771fa2494f5a8a84fb1649cf7b93",
       "placeholder": "Semi Automatic Labeller (Corgie) - Demo",
       "style": "IPY_MODEL_e7e500f3db2d4b2180e19df62513a52b",
       "value": "<h1>Semi Automatic Labeller (Corgie) - Demo</h1><font size=3>\n                                        Tool designed to label short text, we will use a subset of the movies dataset and news dataset to demonstrate the potential of the tool.\n                                        Do note that you just need the 'content' column to utilise this tool.\n                                        </font>"
      }
     },
     "21414098e9754a87985b9c3f213fab43": {
      "model_module": "@jupyter-widgets/controls",
      "model_module_version": "1.5.0",
      "model_name": "HBoxModel",
      "state": {
       "children": [
        "IPY_MODEL_db0ea6f588b2436fabb73a5feffd80e2",
        "IPY_MODEL_9ed054ed108c47cba95d3f9de500f2bf"
       ],
       "layout": "IPY_MODEL_5007e8d2476e4685822a395a77ea8803"
      }
     },
     "2aacdc8dfb73488a82c9b1c5bd81dc24": {
      "model_module": "@jupyter-widgets/base",
      "model_module_version": "1.2.0",
      "model_name": "LayoutModel",
      "state": {}
     },
     "2d67eb54e37b499aac9e4bf2f0741e9a": {
      "model_module": "@jupyter-widgets/controls",
      "model_module_version": "1.5.0",
      "model_name": "VBoxModel",
      "state": {
       "children": [
        "IPY_MODEL_8c3bba70728e4957ae1986f693660894",
        "IPY_MODEL_1fa348a0a1ed4590b39b64837f435ff4",
        "IPY_MODEL_7f9442a24cab401884a99593fc13ed1a"
       ],
       "layout": "IPY_MODEL_8be98ab506394a258350b6b1f2aabc34"
      }
     },
     "319670c4079341d9937ab329e86fb381": {
      "model_module": "@jupyter-widgets/base",
      "model_module_version": "1.2.0",
      "model_name": "LayoutModel",
      "state": {}
     },
     "363556cf558f48529201b938cd9792d0": {
      "model_module": "@jupyter-widgets/base",
      "model_module_version": "1.2.0",
      "model_name": "LayoutModel",
      "state": {}
     },
     "363db9e839304023ac404dcb0af1d92e": {
      "model_module": "ipysheet",
      "model_module_version": "~0.4.3",
      "model_name": "CellRangeModel",
      "state": {
       "_view_module": null,
       "_view_module_version": "",
       "choice": [],
       "numeric_format": null,
       "row_end": 6,
       "row_start": 0,
       "squeeze_row": false,
       "type": "text",
       "value": [
        "love",
        "french",
        "romantic",
        "marry",
        "marriage",
        "boyfriend",
        "wife"
       ]
      }
     },
     "3a47c2eb4bdc4b718370316143386ebb": {
      "model_module": "@jupyter-widgets/base",
      "model_module_version": "1.2.0",
      "model_name": "LayoutModel",
      "state": {}
     },
     "3b9fdaee09eb49c595d0a07c5dc61fa0": {
      "model_module": "@jupyter-widgets/base",
      "model_module_version": "1.2.0",
      "model_name": "LayoutModel",
      "state": {}
     },
     "3d3a67f6b54a42e9a96caaec58155e59": {
      "model_module": "@jupyter-widgets/base",
      "model_module_version": "1.2.0",
      "model_name": "LayoutModel",
      "state": {}
     },
     "3e18c1d2bc3344f3945cb29305628a86": {
      "model_module": "@jupyter-widgets/controls",
      "model_module_version": "1.5.0",
      "model_name": "HTMLModel",
      "state": {
       "layout": "IPY_MODEL_9af3a6b30b614dd1ae2fc90ed50d5473",
       "placeholder": "List of recommended words",
       "style": "IPY_MODEL_6fad55895328400ba0c415f0159a3f2e",
       "value": "<h1>List of recommended words</h1><font size=3>In each row you will see words relating to a topic or theme.</font>"
      }
     },
     "3f68ef52dd8447d48b582fdc079ac7bb": {
      "model_module": "@jupyter-widgets/base",
      "model_module_version": "1.2.0",
      "model_name": "LayoutModel",
      "state": {
       "height": "auto",
       "width": "auto"
      }
     },
     "3f9d17e2a4b347ca8fc67dcc95462048": {
      "model_module": "@jupyter-widgets/controls",
      "model_module_version": "1.5.0",
      "model_name": "HTMLModel",
      "state": {
       "layout": "IPY_MODEL_363556cf558f48529201b938cd9792d0",
       "placeholder": "Label Dictionary",
       "style": "IPY_MODEL_763fedce232842bbaaed3e287c4a3b01",
       "value": "<h1>Label Dictionary</h1><font size=3>This is the list of labels for the document, you may modify this label dictionary before running the model.</font>"
      }
     },
     "43197cd2cde845b6aaa88a95c07d6295": {
      "model_module": "@jupyter-widgets/base",
      "model_module_version": "1.2.0",
      "model_name": "LayoutModel",
      "state": {}
     },
     "46e421b87aa64f11a87cabd3159fc68b": {
      "model_module": "ipysheet",
      "model_module_version": "~0.4.3",
      "model_name": "CellRangeModel",
      "state": {
       "_view_module": null,
       "_view_module_version": "",
       "choice": [],
       "numeric_format": null,
       "row_end": 8,
       "row_start": 0,
       "squeeze_row": false,
       "type": "text",
       "value": [
        "software",
        "internet",
        "network",
        "technology",
        "research",
        "computer",
        "microsoft",
        "phone",
        "version"
       ]
      }
     },
     "4a61945afcc542fc9fc256096615afb7": {
      "model_module": "ipysheet",
      "model_module_version": "~0.4.3",
      "model_name": "CellRangeModel",
      "state": {
       "_view_module": null,
       "_view_module_version": "",
       "choice": [],
       "column_end": 3,
       "column_start": 3,
       "numeric_format": null,
       "row_end": 6,
       "row_start": 0,
       "squeeze_row": false,
       "type": "text",
       "value": [
        "killer",
        "detective",
        "law",
        "victim",
        "cop",
        "agent",
        "kgb"
       ]
      }
     },
     "4c3fe5b6eb16443ca7e161da763e8ba8": {
      "model_module": "@jupyter-widgets/controls",
      "model_module_version": "1.5.0",
      "model_name": "HTMLModel",
      "state": {
       "layout": "IPY_MODEL_3a47c2eb4bdc4b718370316143386ebb",
       "placeholder": "Predictions",
       "style": "IPY_MODEL_d846e99d5b0441229d572988b25e897e",
       "value": "<h1>Predictions</h1><font size=3>This are the predictions of our tool.</font>"
      }
     },
     "4cc4a98f212c4409b4f75ec071d59688": {
      "model_module": "ipysheet",
      "model_module_version": "~0.4.3",
      "model_name": "CellRangeModel",
      "state": {
       "_view_module": null,
       "_view_module_version": "",
       "choice": [],
       "column_end": 4,
       "column_start": 4,
       "numeric_format": null,
       "row_end": 6,
       "row_start": 0,
       "squeeze_row": false,
       "type": "text",
       "value": [
        "war",
        "world",
        "ii",
        "struggle",
        "nan",
        "nan",
        "nan"
       ]
      }
     },
     "4eba6aec965a4f36a9afc6e049083d68": {
      "model_module": "ipysheet",
      "model_module_version": "~0.4.3",
      "model_name": "CellRangeModel",
      "state": {
       "_view_module": null,
       "_view_module_version": "",
       "choice": [],
       "column_end": 0,
       "column_start": 0,
       "numeric_format": null,
       "row_end": 6,
       "row_start": 0,
       "squeeze_row": false,
       "type": "text",
       "value": [
        "criminal",
        "kill",
        "kidnap",
        "gang",
        "revenge",
        "violent",
        "nan"
       ]
      }
     },
     "5007e8d2476e4685822a395a77ea8803": {
      "model_module": "@jupyter-widgets/base",
      "model_module_version": "1.2.0",
      "model_name": "LayoutModel",
      "state": {}
     },
     "5216fe6de9d742adab1b9c0f54ccbe79": {
      "model_module": "ipysheet",
      "model_module_version": "~0.4.3",
      "model_name": "CellRangeModel",
      "state": {
       "_view_module": null,
       "_view_module_version": "",
       "choice": [],
       "column_end": 2,
       "column_start": 2,
       "numeric_format": null,
       "row_end": 6,
       "row_start": 0,
       "squeeze_row": false,
       "type": "text",
       "value": [
        "science",
        "nan",
        "nan",
        "nan",
        "nan",
        "nan",
        "nan"
       ]
      }
     },
     "601e771fa2494f5a8a84fb1649cf7b93": {
      "model_module": "@jupyter-widgets/base",
      "model_module_version": "1.2.0",
      "model_name": "LayoutModel",
      "state": {}
     },
     "6300c3da461549bea7533f36aa914a48": {
      "model_module": "@jupyter-widgets/base",
      "model_module_version": "1.2.0",
      "model_name": "LayoutModel",
      "state": {}
     },
     "6ede9e274f034ef38b9d02b5d01e99a2": {
      "model_module": "ipysheet",
      "model_module_version": "~0.4.3",
      "model_name": "CellRangeModel",
      "state": {
       "_view_module": null,
       "_view_module_version": "",
       "choice": [],
       "column_end": 5,
       "column_start": 5,
       "numeric_format": null,
       "row_end": 6,
       "row_start": 0,
       "squeeze_row": false,
       "type": "text",
       "value": [
        "criminal",
        "nan",
        "nan",
        "nan",
        "nan",
        "nan",
        "nan"
       ]
      }
     },
     "6fad55895328400ba0c415f0159a3f2e": {
      "model_module": "@jupyter-widgets/controls",
      "model_module_version": "1.5.0",
      "model_name": "DescriptionStyleModel",
      "state": {
       "description_width": ""
      }
     },
     "744b001f2f474592ad8a09d65dc55e42": {
      "model_module": "@jupyter-widgets/controls",
      "model_module_version": "1.5.0",
      "model_name": "DescriptionStyleModel",
      "state": {
       "description_width": ""
      }
     },
     "763fedce232842bbaaed3e287c4a3b01": {
      "model_module": "@jupyter-widgets/controls",
      "model_module_version": "1.5.0",
      "model_name": "DescriptionStyleModel",
      "state": {
       "description_width": ""
      }
     },
     "769db9b4bbd1400385b53ea79a006bca": {
      "model_module": "ipysheet",
      "model_module_version": "~0.4.3",
      "model_name": "CellRangeModel",
      "state": {
       "_view_module": null,
       "_view_module_version": "",
       "choice": [],
       "column_end": 0,
       "column_start": 0,
       "numeric_format": null,
       "row_end": 6,
       "row_start": 0,
       "squeeze_row": false,
       "type": "text",
       "value": [
        "criminal",
        "kill",
        "kidnap",
        "gang",
        "revenge",
        "violent",
        "nan"
       ]
      }
     },
     "79d9274da9324f848f4ac1b729dff903": {
      "model_module": "ipysheet",
      "model_module_version": "~0.4.3",
      "model_name": "CellRangeModel",
      "state": {
       "_view_module": null,
       "_view_module_version": "",
       "choice": [],
       "column_end": 4,
       "column_start": 4,
       "numeric_format": null,
       "row_end": 6,
       "row_start": 0,
       "squeeze_row": false,
       "type": "text",
       "value": [
        "war",
        "world",
        "ii",
        "struggle",
        "nan",
        "nan",
        "nan"
       ]
      }
     },
     "7f9442a24cab401884a99593fc13ed1a": {
      "model_module": "@jupyter-widgets/output",
      "model_module_version": "1.0.0",
      "model_name": "OutputModel",
      "state": {
       "layout": "IPY_MODEL_2aacdc8dfb73488a82c9b1c5bd81dc24",
       "outputs": [
        {
         "data": {
          "text/html": "<div>\n<style scoped>\n    .dataframe tbody tr th:only-of-type {\n        vertical-align: middle;\n    }\n\n    .dataframe tbody tr th {\n        vertical-align: top;\n    }\n\n    .dataframe thead th {\n        text-align: right;\n    }\n</style>\n<table border=\"1\" class=\"dataframe\">\n  <thead>\n    <tr style=\"text-align: right;\">\n      <th></th>\n      <th>content</th>\n      <th>Business</th>\n      <th>SciTech</th>\n      <th>Sports</th>\n      <th>World</th>\n    </tr>\n  </thead>\n  <tbody>\n    <tr>\n      <td>0</td>\n      <td>Unions representing workers at Turner   Newall...</td>\n      <td>1</td>\n      <td>0</td>\n      <td>0</td>\n      <td>0</td>\n    </tr>\n    <tr>\n      <td>1</td>\n      <td>SPACE.com - TORONTO, Canada -- A second\\team o...</td>\n      <td>0</td>\n      <td>1</td>\n      <td>0</td>\n      <td>0</td>\n    </tr>\n    <tr>\n      <td>2</td>\n      <td>AP - A company founded by a chemistry research...</td>\n      <td>0</td>\n      <td>1</td>\n      <td>0</td>\n      <td>0</td>\n    </tr>\n    <tr>\n      <td>3</td>\n      <td>AP - It's barely dawn when Mike Fitzpatrick st...</td>\n      <td>0</td>\n      <td>1</td>\n      <td>0</td>\n      <td>0</td>\n    </tr>\n    <tr>\n      <td>4</td>\n      <td>AP - Southern California's smog-fighting agenc...</td>\n      <td>0</td>\n      <td>1</td>\n      <td>0</td>\n      <td>0</td>\n    </tr>\n    <tr>\n      <td>...</td>\n      <td>...</td>\n      <td>...</td>\n      <td>...</td>\n      <td>...</td>\n      <td>...</td>\n    </tr>\n    <tr>\n      <td>495</td>\n      <td>ATHENS -- The booing went on for nearly 10 min...</td>\n      <td>0</td>\n      <td>0</td>\n      <td>1</td>\n      <td>0</td>\n    </tr>\n    <tr>\n      <td>496</td>\n      <td>WASHINGTON -- Hundreds of workers rallied on t...</td>\n      <td>1</td>\n      <td>0</td>\n      <td>0</td>\n      <td>0</td>\n    </tr>\n    <tr>\n      <td>497</td>\n      <td>A Bosnian Serb general accused of organising t...</td>\n      <td>0</td>\n      <td>0</td>\n      <td>0</td>\n      <td>1</td>\n    </tr>\n    <tr>\n      <td>498</td>\n      <td>NBC's prime-time Olympic coverage is taped and...</td>\n      <td>0</td>\n      <td>0</td>\n      <td>1</td>\n      <td>0</td>\n    </tr>\n    <tr>\n      <td>499</td>\n      <td>One thing that #39;s always irritated those wh...</td>\n      <td>0</td>\n      <td>1</td>\n      <td>0</td>\n      <td>0</td>\n    </tr>\n  </tbody>\n</table>\n<p>500 rows × 5 columns</p>\n</div>",
          "text/plain": "                                               content  Business  SciTech  \\\n0    Unions representing workers at Turner   Newall...         1        0   \n1    SPACE.com - TORONTO, Canada -- A second\\team o...         0        1   \n2    AP - A company founded by a chemistry research...         0        1   \n3    AP - It's barely dawn when Mike Fitzpatrick st...         0        1   \n4    AP - Southern California's smog-fighting agenc...         0        1   \n..                                                 ...       ...      ...   \n495  ATHENS -- The booing went on for nearly 10 min...         0        0   \n496  WASHINGTON -- Hundreds of workers rallied on t...         1        0   \n497  A Bosnian Serb general accused of organising t...         0        0   \n498  NBC's prime-time Olympic coverage is taped and...         0        0   \n499  One thing that #39;s always irritated those wh...         0        1   \n\n     Sports  World  \n0         0      0  \n1         0      0  \n2         0      0  \n3         0      0  \n4         0      0  \n..      ...    ...  \n495       1      0  \n496       0      0  \n497       0      1  \n498       1      0  \n499       0      0  \n\n[500 rows x 5 columns]"
         },
         "metadata": {},
         "output_type": "display_data"
        },
        {
         "data": {
          "application/vnd.jupyter.widget-view+json": {
           "model_id": "3e18c1d2bc3344f3945cb29305628a86",
           "version_major": 2,
           "version_minor": 0
          },
          "text/plain": "HTML(value='<h1>List of recommended words</h1><font size=3>In each row you will see words relating to a topic …"
         },
         "metadata": {},
         "output_type": "display_data"
        },
        {
         "data": {
          "text/html": "<div>\n<style scoped>\n    .dataframe tbody tr th:only-of-type {\n        vertical-align: middle;\n    }\n\n    .dataframe tbody tr th {\n        vertical-align: top;\n    }\n\n    .dataframe thead th {\n        text-align: right;\n    }\n</style>\n<table border=\"1\" class=\"dataframe\">\n  <thead>\n    <tr style=\"text-align: right;\">\n      <th></th>\n      <th>0</th>\n      <th>1</th>\n      <th>2</th>\n      <th>3</th>\n      <th>4</th>\n      <th>5</th>\n      <th>6</th>\n      <th>7</th>\n      <th>8</th>\n      <th>9</th>\n    </tr>\n  </thead>\n  <tbody>\n    <tr>\n      <td>0</td>\n      <td>say</td>\n      <td>president</td>\n      <td>official</td>\n      <td>two</td>\n      <td>would</td>\n      <td>one</td>\n      <td>government</td>\n      <td>worker</td>\n      <td>plan</td>\n      <td>security</td>\n    </tr>\n    <tr>\n      <td>1</td>\n      <td>lt</td>\n      <td>gt</td>\n      <td>http</td>\n      <td>href</td>\n      <td>wwwinvestorreuterscomfullquoteaspx</td>\n      <td>targetstocksquickinfofullquote</td>\n      <td>reuters</td>\n      <td>inc</td>\n      <td>say</td>\n      <td>product</td>\n    </tr>\n    <tr>\n      <td>2</td>\n      <td>athens</td>\n      <td>olympic</td>\n      <td>gold</td>\n      <td>medal</td>\n      <td>win</td>\n      <td>american</td>\n      <td>reuters</td>\n      <td>woman</td>\n      <td>greece</td>\n      <td>second</td>\n    </tr>\n    <tr>\n      <td>3</td>\n      <td>quot</td>\n      <td>go</td>\n      <td>aug</td>\n      <td>come</td>\n      <td>see</td>\n      <td>night</td>\n      <td>team</td>\n      <td>easy</td>\n      <td>friday</td>\n      <td>last</td>\n    </tr>\n    <tr>\n      <td>4</td>\n      <td>ap</td>\n      <td>night</td>\n      <td>sunday</td>\n      <td>inning</td>\n      <td>get</td>\n      <td>win</td>\n      <td>game</td>\n      <td>hit</td>\n      <td>run</td>\n      <td>ninth</td>\n    </tr>\n    <tr>\n      <td>5</td>\n      <td>city</td>\n      <td>najaf</td>\n      <td>iraq</td>\n      <td>holy</td>\n      <td>cleric</td>\n      <td>shiite</td>\n      <td>iraqi</td>\n      <td>end</td>\n      <td>shrine</td>\n      <td>alsadr</td>\n    </tr>\n    <tr>\n      <td>6</td>\n      <td>price</td>\n      <td>new</td>\n      <td>oil</td>\n      <td>reuters</td>\n      <td>us</td>\n      <td>year</td>\n      <td>high</td>\n      <td>rise</td>\n      <td>energy</td>\n      <td>dollar</td>\n    </tr>\n  </tbody>\n</table>\n</div>",
          "text/plain": "        0          1         2        3                                   4  \\\n0     say  president  official      two                               would   \n1      lt         gt      http     href  wwwinvestorreuterscomfullquoteaspx   \n2  athens    olympic      gold    medal                                 win   \n3    quot         go       aug     come                                 see   \n4      ap      night    sunday   inning                                 get   \n5    city      najaf      iraq     holy                              cleric   \n6   price        new       oil  reuters                                  us   \n\n                                5           6       7       8         9  \n0                             one  government  worker    plan  security  \n1  targetstocksquickinfofullquote     reuters     inc     say   product  \n2                        american     reuters   woman  greece    second  \n3                           night        team    easy  friday      last  \n4                             win        game     hit     run     ninth  \n5                          shiite       iraqi     end  shrine    alsadr  \n6                            year        high    rise  energy    dollar  "
         },
         "metadata": {},
         "output_type": "display_data"
        },
        {
         "data": {
          "application/vnd.jupyter.widget-view+json": {
           "model_id": "a67211dd07d3475294866354d8edd39d",
           "version_major": 2,
           "version_minor": 0
          },
          "text/plain": "HTML(value='<h1>Label Dictionary</h1><font size=3>This is the list of labels for the document, you may modify …"
         },
         "metadata": {},
         "output_type": "display_data"
        },
        {
         "data": {
          "text/html": "<div>\n<style scoped>\n    .dataframe tbody tr th:only-of-type {\n        vertical-align: middle;\n    }\n\n    .dataframe tbody tr th {\n        vertical-align: top;\n    }\n\n    .dataframe thead th {\n        text-align: right;\n    }\n</style>\n<table border=\"1\" class=\"dataframe\">\n  <thead>\n    <tr style=\"text-align: right;\">\n      <th></th>\n      <th>Business</th>\n      <th>SciTech</th>\n      <th>Sports</th>\n      <th>World</th>\n    </tr>\n  </thead>\n  <tbody>\n    <tr>\n      <td>0</td>\n      <td>stock</td>\n      <td>software</td>\n      <td>olympic</td>\n      <td>iraq</td>\n    </tr>\n    <tr>\n      <td>1</td>\n      <td>price</td>\n      <td>internet</td>\n      <td>champion</td>\n      <td>soldier</td>\n    </tr>\n    <tr>\n      <td>2</td>\n      <td>oil_price</td>\n      <td>network</td>\n      <td>basketball</td>\n      <td>washington</td>\n    </tr>\n    <tr>\n      <td>3</td>\n      <td>sale</td>\n      <td>technology</td>\n      <td>champion</td>\n      <td>international</td>\n    </tr>\n    <tr>\n      <td>4</td>\n      <td>percent</td>\n      <td>research</td>\n      <td>silver</td>\n      <td>official_say</td>\n    </tr>\n    <tr>\n      <td>5</td>\n      <td>business</td>\n      <td>computer</td>\n      <td>medal</td>\n      <td>competition</td>\n    </tr>\n    <tr>\n      <td>6</td>\n      <td>revenue</td>\n      <td>microsoft</td>\n      <td>season</td>\n      <td>nan</td>\n    </tr>\n    <tr>\n      <td>7</td>\n      <td>earnings</td>\n      <td>phone</td>\n      <td>victory</td>\n      <td>nan</td>\n    </tr>\n    <tr>\n      <td>8</td>\n      <td>quarter</td>\n      <td>version</td>\n      <td>cup</td>\n      <td>nan</td>\n    </tr>\n  </tbody>\n</table>\n</div>",
          "text/plain": "    Business     SciTech      Sports          World\n0      stock    software     olympic           iraq\n1      price    internet    champion        soldier\n2  oil_price     network  basketball     washington\n3       sale  technology    champion  international\n4    percent    research      silver   official_say\n5   business    computer       medal    competition\n6    revenue   microsoft      season            nan\n7   earnings       phone     victory            nan\n8    quarter     version         cup            nan"
         },
         "metadata": {},
         "output_type": "display_data"
        }
       ]
      }
     },
     "8414f84470934f1ea06030b1050b3ab0": {
      "model_module": "@jupyter-widgets/controls",
      "model_module_version": "1.5.0",
      "model_name": "DescriptionStyleModel",
      "state": {
       "description_width": ""
      }
     },
     "84ce127263e3491686412c20d01a56dc": {
      "model_module": "ipysheet",
      "model_module_version": "~0.4.3",
      "model_name": "SheetModel",
      "state": {
       "cells": [
        "IPY_MODEL_769db9b4bbd1400385b53ea79a006bca",
        "IPY_MODEL_363db9e839304023ac404dcb0af1d92e",
        "IPY_MODEL_5216fe6de9d742adab1b9c0f54ccbe79",
        "IPY_MODEL_4a61945afcc542fc9fc256096615afb7",
        "IPY_MODEL_79d9274da9324f848f4ac1b729dff903",
        "IPY_MODEL_6ede9e274f034ef38b9d02b5d01e99a2"
       ],
       "column_headers": [
        "Action",
        "Romance",
        "Science Fiction",
        "Thriller",
        "War",
        "Western"
       ],
       "columns": 6,
       "layout": "IPY_MODEL_3f68ef52dd8447d48b582fdc079ac7bb",
       "row_headers": [
        "0",
        "1",
        "2",
        "3",
        "4",
        "5",
        "6"
       ],
       "rows": 7
      }
     },
     "8be98ab506394a258350b6b1f2aabc34": {
      "model_module": "@jupyter-widgets/base",
      "model_module_version": "1.2.0",
      "model_name": "LayoutModel",
      "state": {}
     },
     "8c3bba70728e4957ae1986f693660894": {
      "model_module": "@jupyter-widgets/controls",
      "model_module_version": "1.5.0",
      "model_name": "HTMLModel",
      "state": {
       "layout": "IPY_MODEL_6300c3da461549bea7533f36aa914a48",
       "placeholder": "Semi Automatic Labeller (Corgie) - Demo",
       "style": "IPY_MODEL_f5243f9b2d66487d8ff03a7f8a2e62f5",
       "value": "<h1>Semi Automatic Labeller (Corgie) - Demo</h1><font size=3>\n                                        Tool designed to label short text, we will use a subset of the movies dataset and news dataset to demonstrate the potential of the tool.\n                                        Do note that you just need the 'content' column to utilise this tool.\n                                        </font>"
      }
     },
     "8f20075a22a84b429cf9a658ed287a4d": {
      "model_module": "@jupyter-widgets/base",
      "model_module_version": "1.2.0",
      "model_name": "LayoutModel",
      "state": {
       "height": "auto",
       "width": "auto"
      }
     },
     "8f91fd8065d942b9bd567a3ea69b7ffa": {
      "model_module": "@jupyter-widgets/controls",
      "model_module_version": "1.5.0",
      "model_name": "ButtonStyleModel",
      "state": {}
     },
     "9af3a6b30b614dd1ae2fc90ed50d5473": {
      "model_module": "@jupyter-widgets/base",
      "model_module_version": "1.2.0",
      "model_name": "LayoutModel",
      "state": {}
     },
     "9ed054ed108c47cba95d3f9de500f2bf": {
      "model_module": "@jupyter-widgets/controls",
      "model_module_version": "1.5.0",
      "model_name": "ButtonModel",
      "state": {
       "button_style": "info",
       "description": "Run Model",
       "layout": "IPY_MODEL_defe1c317b5c439db461f474527a0bc8",
       "style": "IPY_MODEL_8f91fd8065d942b9bd567a3ea69b7ffa"
      }
     },
     "a3aee531b9e74c8cb5f658775717503c": {
      "model_module": "@jupyter-widgets/controls",
      "model_module_version": "1.5.0",
      "model_name": "DropdownModel",
      "state": {
       "_options_labels": [
        "News",
        "Movies"
       ],
       "description": "Input Data:",
       "index": 0,
       "layout": "IPY_MODEL_125fd955693842fb8e8b0eb83dc6ae8d",
       "style": "IPY_MODEL_b6d2554fdedf4bf0a793aa45676457b9"
      }
     },
     "a67211dd07d3475294866354d8edd39d": {
      "model_module": "@jupyter-widgets/controls",
      "model_module_version": "1.5.0",
      "model_name": "HTMLModel",
      "state": {
       "layout": "IPY_MODEL_c53e630015784c049cbd685685cd6f21",
       "placeholder": "Label Dictionary",
       "style": "IPY_MODEL_ccdddebc598448c4bcf7bb7c4c0e0578",
       "value": "<h1>Label Dictionary</h1><font size=3>This is the list of labels for the document, you may modify this label dictionary before running the model.</font>"
      }
     },
     "aa170593b3cf4707b5485d05387bb611": {
      "model_module": "ipysheet",
      "model_module_version": "~0.4.3",
      "model_name": "CellRangeModel",
      "state": {
       "_view_module": null,
       "_view_module_version": "",
       "choice": [],
       "column_end": 0,
       "column_start": 0,
       "numeric_format": null,
       "row_end": 8,
       "row_start": 0,
       "squeeze_row": false,
       "type": "text",
       "value": [
        "stock",
        "price",
        "oil_price",
        "sale",
        "percent",
        "business",
        "revenue",
        "earnings",
        "quarter"
       ]
      }
     },
     "aa961061f0514c3fbd9641ae299d2cc2": {
      "model_module": "@jupyter-widgets/controls",
      "model_module_version": "1.5.0",
      "model_name": "DescriptionStyleModel",
      "state": {
       "description_width": ""
      }
     },
     "b6d2554fdedf4bf0a793aa45676457b9": {
      "model_module": "@jupyter-widgets/controls",
      "model_module_version": "1.5.0",
      "model_name": "DescriptionStyleModel",
      "state": {
       "description_width": ""
      }
     },
     "baa8caaba2b84faf8f8dfee071081627": {
      "model_module": "@jupyter-widgets/controls",
      "model_module_version": "1.5.0",
      "model_name": "ButtonModel",
      "state": {
       "button_style": "info",
       "description": "Run Model",
       "layout": "IPY_MODEL_319670c4079341d9937ab329e86fb381",
       "style": "IPY_MODEL_e3f0089993bc42f387541593b2ff3c56"
      }
     },
     "bc4d9eaa73b642b59472bf2bd75d15d6": {
      "model_module": "@jupyter-widgets/controls",
      "model_module_version": "1.5.0",
      "model_name": "HTMLModel",
      "state": {
       "layout": "IPY_MODEL_1e1523db36e242689fb9e72c6c702fa5",
       "placeholder": "Enriched Dictionary",
       "style": "IPY_MODEL_dde9c5d6cd134236ab5a51d78d289ff4",
       "value": "<h1>Enriched Dictionary</h1><font size=3>This is an enriched version of the input label dictionary.</font>"
      }
     },
     "becb27136aa74e55946471978484efb3": {
      "model_module": "@jupyter-widgets/base",
      "model_module_version": "1.2.0",
      "model_name": "LayoutModel",
      "state": {
       "height": "auto",
       "width": "auto"
      }
     },
     "c29b2c786e6246b2baaa0bb6f9f4e3ee": {
      "model_module": "ipysheet",
      "model_module_version": "~0.4.3",
      "model_name": "CellRangeModel",
      "state": {
       "_view_module": null,
       "_view_module_version": "",
       "choice": [],
       "numeric_format": null,
       "row_end": 6,
       "row_start": 0,
       "squeeze_row": false,
       "type": "text",
       "value": [
        "love",
        "french",
        "romantic",
        "marry",
        "marriage",
        "boyfriend",
        "wife"
       ]
      }
     },
     "c53e630015784c049cbd685685cd6f21": {
      "model_module": "@jupyter-widgets/base",
      "model_module_version": "1.2.0",
      "model_name": "LayoutModel",
      "state": {}
     },
     "c913ccae6b8c4b27943263ee40af826e": {
      "model_module": "ipysheet",
      "model_module_version": "~0.4.3",
      "model_name": "CellRangeModel",
      "state": {
       "_view_module": null,
       "_view_module_version": "",
       "choice": [],
       "numeric_format": null,
       "row_end": 8,
       "row_start": 0,
       "squeeze_row": false,
       "type": "text",
       "value": [
        "software",
        "internet",
        "network",
        "technology",
        "research",
        "computer",
        "microsoft",
        "phone",
        "version"
       ]
      }
     },
     "cc9e833b878643e889094bf71c634f65": {
      "model_module": "@jupyter-widgets/controls",
      "model_module_version": "1.5.0",
      "model_name": "HTMLModel",
      "state": {
       "layout": "IPY_MODEL_43197cd2cde845b6aaa88a95c07d6295",
       "placeholder": "Predictions",
       "style": "IPY_MODEL_8414f84470934f1ea06030b1050b3ab0",
       "value": "<h1>Predictions</h1><font size=3>This are the predictions of our tool.</font>"
      }
     },
     "ccafd3a740f246a88a72fb892eb96095": {
      "model_module": "@jupyter-widgets/base",
      "model_module_version": "1.2.0",
      "model_name": "LayoutModel",
      "state": {}
     },
     "ccdddebc598448c4bcf7bb7c4c0e0578": {
      "model_module": "@jupyter-widgets/controls",
      "model_module_version": "1.5.0",
      "model_name": "DescriptionStyleModel",
      "state": {
       "description_width": ""
      }
     },
     "d447576baa674c498f2d2f1820ecf587": {
      "model_module": "ipysheet",
      "model_module_version": "~0.4.3",
      "model_name": "SheetModel",
      "state": {
       "cells": [
        "IPY_MODEL_4eba6aec965a4f36a9afc6e049083d68",
        "IPY_MODEL_c29b2c786e6246b2baaa0bb6f9f4e3ee",
        "IPY_MODEL_ff679ff75230480cbf9d93417240b7e1",
        "IPY_MODEL_fb8b95b1b48c47d5a5ded54d8d010224",
        "IPY_MODEL_4cc4a98f212c4409b4f75ec071d59688",
        "IPY_MODEL_fe2f3306abc344de858a858e2c824e59"
       ],
       "column_headers": [
        "Action",
        "Romance",
        "Science Fiction",
        "Thriller",
        "War",
        "Western"
       ],
       "columns": 6,
       "layout": "IPY_MODEL_de8e9d6060904cc2a02c59a78716a4ab",
       "row_headers": [
        "0",
        "1",
        "2",
        "3",
        "4",
        "5",
        "6"
       ],
       "rows": 7
      }
     },
     "d735f25f2be146c88d0b0f93feaa1743": {
      "model_module": "ipysheet",
      "model_module_version": "~0.4.3",
      "model_name": "CellRangeModel",
      "state": {
       "_view_module": null,
       "_view_module_version": "",
       "choice": [],
       "column_end": 2,
       "column_start": 2,
       "numeric_format": null,
       "row_end": 8,
       "row_start": 0,
       "squeeze_row": false,
       "type": "text",
       "value": [
        "olympic",
        "champion",
        "basketball",
        "champion",
        "silver",
        "medal",
        "season",
        "victory",
        "cup"
       ]
      }
     },
     "d846e99d5b0441229d572988b25e897e": {
      "model_module": "@jupyter-widgets/controls",
      "model_module_version": "1.5.0",
      "model_name": "DescriptionStyleModel",
      "state": {
       "description_width": ""
      }
     },
     "db0ea6f588b2436fabb73a5feffd80e2": {
      "model_module": "@jupyter-widgets/controls",
      "model_module_version": "1.5.0",
      "model_name": "DropdownModel",
      "state": {
       "_options_labels": [
        "News",
        "Movies"
       ],
       "description": "Input Data:",
       "index": 0,
       "layout": "IPY_MODEL_f63768a1c5c64f3490566bd29e2d9629",
       "style": "IPY_MODEL_744b001f2f474592ad8a09d65dc55e42"
      }
     },
     "dcfc192abdd742a78458de16a6d62623": {
      "model_module": "@jupyter-widgets/controls",
      "model_module_version": "1.5.0",
      "model_name": "HTMLModel",
      "state": {
       "layout": "IPY_MODEL_ccafd3a740f246a88a72fb892eb96095",
       "placeholder": "List of recommended words",
       "style": "IPY_MODEL_138d78cad14e437da6d31a496a2dbb97",
       "value": "<h1>List of recommended words</h1><font size=3>In each row you will see words relating to a topic or theme.</font>"
      }
     },
     "dde9c5d6cd134236ab5a51d78d289ff4": {
      "model_module": "@jupyter-widgets/controls",
      "model_module_version": "1.5.0",
      "model_name": "DescriptionStyleModel",
      "state": {
       "description_width": ""
      }
     },
     "de8e9d6060904cc2a02c59a78716a4ab": {
      "model_module": "@jupyter-widgets/base",
      "model_module_version": "1.2.0",
      "model_name": "LayoutModel",
      "state": {
       "height": "auto",
       "width": "auto"
      }
     },
     "defe1c317b5c439db461f474527a0bc8": {
      "model_module": "@jupyter-widgets/base",
      "model_module_version": "1.2.0",
      "model_name": "LayoutModel",
      "state": {}
     },
     "e3c7e2d173a046048c94334b19f8a8c4": {
      "model_module": "ipysheet",
      "model_module_version": "~0.4.3",
      "model_name": "SheetModel",
      "state": {
       "cells": [
        "IPY_MODEL_aa170593b3cf4707b5485d05387bb611",
        "IPY_MODEL_c913ccae6b8c4b27943263ee40af826e",
        "IPY_MODEL_d735f25f2be146c88d0b0f93feaa1743",
        "IPY_MODEL_18a4c74ffdf645c28ce054442137ecf9"
       ],
       "column_headers": [
        "Business",
        "SciTech",
        "Sports",
        "World"
       ],
       "layout": "IPY_MODEL_8f20075a22a84b429cf9a658ed287a4d",
       "row_headers": [
        "0",
        "1",
        "2",
        "3",
        "4",
        "5",
        "6",
        "7",
        "8"
       ],
       "rows": 9
      }
     },
     "e3f0089993bc42f387541593b2ff3c56": {
      "model_module": "@jupyter-widgets/controls",
      "model_module_version": "1.5.0",
      "model_name": "ButtonStyleModel",
      "state": {}
     },
     "e5994219b541466c86c6dbf1d5f7b49a": {
      "model_module": "ipysheet",
      "model_module_version": "~0.4.3",
      "model_name": "CellRangeModel",
      "state": {
       "_view_module": null,
       "_view_module_version": "",
       "choice": [],
       "column_end": 0,
       "column_start": 0,
       "numeric_format": null,
       "row_end": 8,
       "row_start": 0,
       "squeeze_row": false,
       "type": "text",
       "value": [
        "stock",
        "price",
        "oil_price",
        "sale",
        "percent",
        "business",
        "revenue",
        "earnings",
        "quarter"
       ]
      }
     },
     "e7e500f3db2d4b2180e19df62513a52b": {
      "model_module": "@jupyter-widgets/controls",
      "model_module_version": "1.5.0",
      "model_name": "DescriptionStyleModel",
      "state": {
       "description_width": ""
      }
     },
     "f5243f9b2d66487d8ff03a7f8a2e62f5": {
      "model_module": "@jupyter-widgets/controls",
      "model_module_version": "1.5.0",
      "model_name": "DescriptionStyleModel",
      "state": {
       "description_width": ""
      }
     },
     "f63768a1c5c64f3490566bd29e2d9629": {
      "model_module": "@jupyter-widgets/base",
      "model_module_version": "1.2.0",
      "model_name": "LayoutModel",
      "state": {}
     },
     "fb8b95b1b48c47d5a5ded54d8d010224": {
      "model_module": "ipysheet",
      "model_module_version": "~0.4.3",
      "model_name": "CellRangeModel",
      "state": {
       "_view_module": null,
       "_view_module_version": "",
       "choice": [],
       "column_end": 3,
       "column_start": 3,
       "numeric_format": null,
       "row_end": 6,
       "row_start": 0,
       "squeeze_row": false,
       "type": "text",
       "value": [
        "killer",
        "detective",
        "law",
        "victim",
        "cop",
        "agent",
        "kgb"
       ]
      }
     },
     "fe2f3306abc344de858a858e2c824e59": {
      "model_module": "ipysheet",
      "model_module_version": "~0.4.3",
      "model_name": "CellRangeModel",
      "state": {
       "_view_module": null,
       "_view_module_version": "",
       "choice": [],
       "column_end": 5,
       "column_start": 5,
       "numeric_format": null,
       "row_end": 6,
       "row_start": 0,
       "squeeze_row": false,
       "type": "text",
       "value": [
        "criminal",
        "nan",
        "nan",
        "nan",
        "nan",
        "nan",
        "nan"
       ]
      }
     },
     "ff679ff75230480cbf9d93417240b7e1": {
      "model_module": "ipysheet",
      "model_module_version": "~0.4.3",
      "model_name": "CellRangeModel",
      "state": {
       "_view_module": null,
       "_view_module_version": "",
       "choice": [],
       "column_end": 2,
       "column_start": 2,
       "numeric_format": null,
       "row_end": 6,
       "row_start": 0,
       "squeeze_row": false,
       "type": "text",
       "value": [
        "science",
        "nan",
        "nan",
        "nan",
        "nan",
        "nan",
        "nan"
       ]
      }
     }
    },
    "version_major": 2,
    "version_minor": 0
   }
  }
 },
 "nbformat": 4,
 "nbformat_minor": 4
}
