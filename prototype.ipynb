{
 "cells": [
  {
   "cell_type": "code",
   "execution_count": 1,
   "metadata": {},
   "outputs": [],
   "source": [
    "# implementation from https://en.wikipedia.org/wiki/Model–view–controller\n",
    "from ipysheet import sheet, cell, column, cell_range\n",
    "from IPython.display import display, Markdown, clear_output\n",
    "\n",
    "import ipysheet\n",
    "import ipywidgets as widgets\n",
    "import pandas as pd\n",
    "\n",
    "# Imported functions to run model\n",
    "from src.toolkit.autolabel import Preprocessor, AutoLabeller, check_labels\n",
    "from src.toolkit.autolabel import recommend_words\n",
    "\n",
    "from sklearn.naive_bayes import MultinomialNB\n",
    "\n",
    "# add descriptions\n",
    "# model will take several minutes to run/recluster\n",
    "# update the ipysheet to become a dataframe while the code is running\n",
    "# move the classes into a python file"
   ]
  },
  {
   "cell_type": "code",
   "execution_count": 4,
   "metadata": {},
   "outputs": [
    {
     "data": {
      "application/vnd.jupyter.widget-view+json": {
       "model_id": "d7eb1c42c8d44f35a174c8ba2323b7db",
       "version_major": 2,
       "version_minor": 0
      },
      "text/plain": [
       "VBox(children=(HTML(value='<h1>Semi Automatic Labeller (Corgie) - Demo</h1>', placeholder='Semi Automatic Labe…"
      ]
     },
     "metadata": {},
     "output_type": "display_data"
    }
   ],
   "source": [
    "titles = ['News', 'Movies']\n",
    "label_paths = [\"data/news500_labels.csv\", \"data/movies500_labels.csv\"]\n",
    "data_paths = [\"data/news500.csv\", \"data/movies500.csv\"]\n",
    "reco_paths = [\"data/news500_matrix10.csv\", \"data/movies500_matrix10.csv\"]\n",
    "\n",
    "model = Model()\n",
    "\n",
    "model.initialise(titles, data_paths, reco_paths, label_paths)\n",
    "model.labelHeader = model.create_header(\"Label Dictionary\")\n",
    "model.enrichedHeader = model.create_header(\"Enriched Dictionary\")\n",
    "model.toolHeader = model.create_header(\"Semi Automatic Labeller (Corgie) - Demo\")\n",
    "model.recommendationHeader = model.create_header(\"List of recommended words\")\n",
    "model.labelledHeader = model.create_header(\"Predictions\")\n",
    "view = View()\n",
    "controller = Controller(model, view)\n",
    "\n",
    "comp = controller.render()\n",
    "comp"
   ]
  },
  {
   "cell_type": "code",
   "execution_count": 2,
   "metadata": {},
   "outputs": [],
   "source": [
    "out = widgets.Output() # this needs to be outside of the class\n",
    "\n",
    "class MLModel():\n",
    "    def __init__(self):\n",
    "        self.stopwords_path = \"data/stopwords.csv\"\n",
    "        return\n",
    "    \n",
    "    def run(self, data, label):\n",
    "        corpus = data['content']\n",
    "        \n",
    "        # Initialise Labels\n",
    "        label = check_labels(data, label)\n",
    "\n",
    "        # Text Preprocessing\n",
    "        preprocessor = Preprocessor()\n",
    "        preprocessed_corpus = preprocessor.corpus_preprocess(corpus=corpus, stopwords_path=self.stopwords_path)\n",
    "        preprocessor.corpus_replace_bigrams(corpus=preprocessed_corpus, min_df=50, max_df=500)\n",
    "        data['content'] = preprocessor.corpus_replace_bigrams(corpus=preprocessed_corpus, min_df=50, max_df=500)\n",
    "\n",
    "        # Enrich Labels\n",
    "        autoLabeller = AutoLabeller(label, corpus, data)\n",
    "        enriched_label = autoLabeller.train()\n",
    "\n",
    "        # Predict results\n",
    "        mnb = MultinomialNB()\n",
    "        ypred = autoLabeller.apply(mnb, \"content\")\n",
    "        labelled_data = data[[\"content\"]].join(ypred)\n",
    "        \n",
    "        return enriched_label, labelled_data\n",
    "\n",
    "class Model():\n",
    "    \"\"\" Class to solely handle the data, this can include widgets\n",
    "    \"\"\"\n",
    "    def __init__(self):\n",
    "        return\n",
    "    \n",
    "    def create_header(self, text: str):\n",
    "        \"\"\" creates a HTML widget to display text\n",
    "        \"\"\"\n",
    "        header = widgets.HTML(\n",
    "            value=\"<h1>{}</h1>\".format(text),\n",
    "            placeholder=\"{}\".format(text),\n",
    "            description=\"\",\n",
    "        )\n",
    "        return header\n",
    "    \n",
    "    def create_sheet(self, label_path: str):\n",
    "        \"\"\" creates ipysheet from file path to csv file\n",
    "        \"\"\"\n",
    "        df = pd.read_csv(label_path)\n",
    "        sheet = ipysheet.from_dataframe(df)\n",
    "        return sheet\n",
    "    \n",
    "    def create_sheets(self, label_paths: list):\n",
    "        \"\"\" creates dictionary of ipysheet using labelspath and titles\n",
    "        \"\"\"\n",
    "        sheets = {}\n",
    "        for i, label_path in enumerate(label_paths):\n",
    "            sheet = self.create_sheet(label_path)\n",
    "            sheets[self.titles[i]] = sheet\n",
    "        return sheets\n",
    "    \n",
    "    def create_dfs(self, data_paths: list):\n",
    "        \"\"\" creates dataframes from list of paths to csv files\n",
    "        \"\"\"\n",
    "        dfs = {}\n",
    "        for i, data_path in enumerate(data_paths):\n",
    "            df = pd.read_csv(data_path)\n",
    "            dfs[self.titles[i]] = df\n",
    "        return dfs\n",
    "    \n",
    "    def initialise(self, titles: list, data_paths: list, reco_paths: list, label_paths: list):\n",
    "        self.titles = titles\n",
    "        self.datas = self.create_dfs(data_paths)\n",
    "        self.recommendations = self.create_dfs(reco_paths)\n",
    "        self.sheets = self.create_sheets(label_paths)\n",
    "        return\n",
    "\n",
    "    \n",
    "class View():\n",
    "    \"\"\" Class solely responsible for the UI display of the project\n",
    "    \"\"\"\n",
    "    def __init__(self):\n",
    "        return\n",
    "    \n",
    "    def display_output(*items):\n",
    "        \"\"\"\n",
    "        Displays output in sequence that items where fed in\n",
    "        \"\"\"\n",
    "        with out:\n",
    "            out.clear_output()\n",
    "            for item in items[1:]:\n",
    "                display(item)\n",
    "        return    \n",
    "    \n",
    "    def first_render(self, titles: list, toolHeader: str, data: pd.DataFrame, recommendationHeader: str,\n",
    "                     recommendation: pd.DataFrame, labelHeader: str, sheet: ipysheet.sheet):\n",
    "        \"\"\" creates the layout of the UI\n",
    "        \"\"\"\n",
    "        \n",
    "        # dropdown menu\n",
    "        menu = widgets.Dropdown(options=titles,\n",
    "                                value=titles[0],\n",
    "                                description='Input Data:')\n",
    "        \n",
    "        # normal button\n",
    "        button = widgets.Button(description='Run Model',\n",
    "                                button_style='info')\n",
    "        \n",
    "\n",
    "        hbox = widgets.HBox([menu, button])\n",
    "        vbox = widgets.VBox([toolHeader, hbox, out])\n",
    "        \n",
    "        self.menu = menu\n",
    "        self.runButton = button\n",
    "        self.display_output(recommendationHeader, recommendation, labelHeader, sheet)\n",
    "        return vbox\n",
    "\n",
    "    \n",
    "class Controller():\n",
    "    \"\"\" Class solely responsible for the triggering of updates for UI of the project\n",
    "    \"\"\"\n",
    "    def __init__(self, model, view):\n",
    "        self.model = model\n",
    "        self.view = view\n",
    "        self.mlmodel = MLModel()\n",
    "        return\n",
    "      \n",
    "    \n",
    "    def button_clicked(self, _):\n",
    "        # \"linking function with output\"\n",
    "        \n",
    "        # runs the model\n",
    "        enriched_label, labelled_data = self.mlmodel.run(self.model.datas[self.view.menu.value][['content']].copy(deep=True),                       \n",
    "                                         ipysheet.to_dataframe(self.model.sheets[self.view.menu.value]))\n",
    "        \n",
    "        with out:\n",
    "            self.view.display_output(\n",
    "                self.model.datas[self.view.menu.value],\n",
    "                self.model.recommendationHeader, \n",
    "                self.model.recommendations[self.view.menu.value],\n",
    "                self.model.labelHeader, \n",
    "                self.model.sheets[self.view.menu.value],\n",
    "                self.model.enrichedHeader,\n",
    "                enriched_label, \n",
    "                self.model.labelledHeader,\n",
    "                labelled_data\n",
    "            )\n",
    "        return\n",
    "    \n",
    "    def drop_down_updated(self, _):\n",
    "        \"\"\" Update data when drop_down_menu_updated\n",
    "        \"\"\"\n",
    "        self.view.display_output(self.model.datas[self.view.menu.value],\n",
    "                                 self.model.recommendationHeader, \n",
    "                                 self.model.recommendations[self.view.menu.value],\n",
    "                                 self.model.labelHeader, \n",
    "                                 self.model.sheets[self.view.menu.value])\n",
    "        return\n",
    "    \n",
    "    def wire_components(self):\n",
    "        \"\"\" Gives components their effects when clicked\n",
    "        \"\"\"\n",
    "        self.view.runButton.on_click(self.button_clicked)\n",
    "        self.view.menu.observe(self.drop_down_updated)\n",
    "        \n",
    "        return\n",
    "    \n",
    "    def render(self):\n",
    "        \"\"\" calls first rendering of the view\n",
    "        \"\"\"\n",
    "        firstItem = self.model.titles[0]\n",
    "        view = self.view.first_render(self.model.titles,\n",
    "                                      self.model.toolHeader,\n",
    "                                      self.model.datas[firstItem],\n",
    "                                      self.model.recommendationHeader, \n",
    "                                      self.model.recommendations[firstItem],\n",
    "                                      self.model.labelHeader, \n",
    "                                      self.model.sheets[firstItem])\n",
    "        self.wire_components()\n",
    "        \n",
    "        return view"
   ]
  }
 ],
 "metadata": {
  "kernelspec": {
   "display_name": "Python 3",
   "language": "python",
   "name": "python3"
  },
  "language_info": {
   "codemirror_mode": {
    "name": "ipython",
    "version": 3
   },
   "file_extension": ".py",
   "mimetype": "text/x-python",
   "name": "python",
   "nbconvert_exporter": "python",
   "pygments_lexer": "ipython3",
   "version": "3.6.5"
  },
  "widgets": {
   "application/vnd.jupyter.widget-state+json": {
    "state": {
     "0b5c3f798ecd406e99c6056b233d49c2": {
      "model_module": "@jupyter-widgets/controls",
      "model_module_version": "1.5.0",
      "model_name": "DescriptionStyleModel",
      "state": {
       "description_width": ""
      }
     },
     "0b987fc324ea4862ac34d48d2011223e": {
      "model_module": "@jupyter-widgets/controls",
      "model_module_version": "1.5.0",
      "model_name": "HTMLModel",
      "state": {
       "layout": "IPY_MODEL_fd0c99fcd91145d7a999f4fc981230d0",
       "placeholder": "List of recommended words",
       "style": "IPY_MODEL_0b5c3f798ecd406e99c6056b233d49c2",
       "value": "<h1>List of recommended words</h1>"
      }
     },
     "0d173aeb131a46c0a26d5daa7c76df53": {
      "model_module": "ipysheet",
      "model_module_version": "~0.4.3",
      "model_name": "CellRangeModel",
      "state": {
       "_view_module": null,
       "_view_module_version": "",
       "choice": [],
       "numeric_format": null,
       "row_end": 8,
       "row_start": 0,
       "squeeze_row": false,
       "type": "text",
       "value": [
        "software",
        "internet",
        "network",
        "technology",
        "research",
        "computer",
        "microsoft",
        "phone",
        "version"
       ]
      }
     },
     "141d70d53999478586a6dfebb9564685": {
      "model_module": "ipysheet",
      "model_module_version": "~0.4.3",
      "model_name": "CellRangeModel",
      "state": {
       "_view_module": null,
       "_view_module_version": "",
       "choice": [],
       "column_end": 0,
       "column_start": 0,
       "numeric_format": null,
       "row_end": 6,
       "row_start": 0,
       "squeeze_row": false,
       "type": "text",
       "value": [
        "criminal",
        "kill",
        "kidnap",
        "gang",
        "revenge",
        "violent",
        "nan"
       ]
      }
     },
     "1951c4f341aa4815addc31ed149d82c7": {
      "model_module": "ipysheet",
      "model_module_version": "~0.4.3",
      "model_name": "CellRangeModel",
      "state": {
       "_view_module": null,
       "_view_module_version": "",
       "choice": [],
       "column_end": 5,
       "column_start": 5,
       "numeric_format": null,
       "row_end": 6,
       "row_start": 0,
       "squeeze_row": false,
       "type": "text",
       "value": [
        "criminal",
        "nan",
        "nan",
        "nan",
        "nan",
        "nan",
        "nan"
       ]
      }
     },
     "21b427a46dfe4fda9ab949e251138b6d": {
      "model_module": "ipysheet",
      "model_module_version": "~0.4.3",
      "model_name": "CellRangeModel",
      "state": {
       "_view_module": null,
       "_view_module_version": "",
       "choice": [],
       "column_end": 2,
       "column_start": 2,
       "numeric_format": null,
       "row_end": 8,
       "row_start": 0,
       "squeeze_row": false,
       "type": "text",
       "value": [
        "olympic",
        "champion",
        "basketball",
        "champion",
        "silver",
        "medal",
        "season",
        "victory",
        "cup"
       ]
      }
     },
     "28c16ade34f340268fa7544dd7204f71": {
      "model_module": "@jupyter-widgets/controls",
      "model_module_version": "1.5.0",
      "model_name": "ButtonModel",
      "state": {
       "button_style": "info",
       "description": "Run Model",
       "layout": "IPY_MODEL_58cb09ce408d4adba365e7eb2044a08f",
       "style": "IPY_MODEL_484865813fce4ab3a7580e1d94ab9f52"
      }
     },
     "2d7cdb7ae9644ede80c90623e97482d9": {
      "model_module": "ipysheet",
      "model_module_version": "~0.4.3",
      "model_name": "CellRangeModel",
      "state": {
       "_view_module": null,
       "_view_module_version": "",
       "choice": [],
       "column_end": 4,
       "column_start": 4,
       "numeric_format": null,
       "row_end": 6,
       "row_start": 0,
       "squeeze_row": false,
       "type": "text",
       "value": [
        "war",
        "world",
        "ii",
        "struggle",
        "nan",
        "nan",
        "nan"
       ]
      }
     },
     "34f9672be43f4a46b92ca4d4b52da7f4": {
      "model_module": "@jupyter-widgets/base",
      "model_module_version": "1.2.0",
      "model_name": "LayoutModel",
      "state": {
       "height": "auto",
       "width": "auto"
      }
     },
     "425de7a24809433dbb60cb968e8676d7": {
      "model_module": "@jupyter-widgets/base",
      "model_module_version": "1.2.0",
      "model_name": "LayoutModel",
      "state": {}
     },
     "484865813fce4ab3a7580e1d94ab9f52": {
      "model_module": "@jupyter-widgets/controls",
      "model_module_version": "1.5.0",
      "model_name": "ButtonStyleModel",
      "state": {}
     },
     "4b19c88e06bd4b9ea87fba8f775d2f53": {
      "model_module": "ipysheet",
      "model_module_version": "~0.4.3",
      "model_name": "CellRangeModel",
      "state": {
       "_view_module": null,
       "_view_module_version": "",
       "choice": [],
       "column_end": 3,
       "column_start": 3,
       "numeric_format": null,
       "row_end": 8,
       "row_start": 0,
       "squeeze_row": false,
       "type": "text",
       "value": [
        "iraq",
        "soldier",
        "washington",
        "international",
        "official_say",
        "competition",
        "nan",
        "nan",
        "nan"
       ]
      }
     },
     "4f322ffc7d0c44eeabb1c795328348fc": {
      "model_module": "@jupyter-widgets/controls",
      "model_module_version": "1.5.0",
      "model_name": "HTMLModel",
      "state": {
       "layout": "IPY_MODEL_d5231dc762eb4c0396a221cc0fb1ca3f",
       "placeholder": "Label Dictionary",
       "style": "IPY_MODEL_8ce5aaa71f0c419e895ece811a05af0d",
       "value": "<h1>Label Dictionary</h1>"
      }
     },
     "56af43ad23e44063a317d75fce35a85e": {
      "model_module": "ipysheet",
      "model_module_version": "~0.4.3",
      "model_name": "CellRangeModel",
      "state": {
       "_view_module": null,
       "_view_module_version": "",
       "choice": [],
       "column_end": 3,
       "column_start": 3,
       "numeric_format": null,
       "row_end": 6,
       "row_start": 0,
       "squeeze_row": false,
       "type": "text",
       "value": [
        "killer",
        "detective",
        "law",
        "victim",
        "cop",
        "agent",
        "kgb"
       ]
      }
     },
     "58cb09ce408d4adba365e7eb2044a08f": {
      "model_module": "@jupyter-widgets/base",
      "model_module_version": "1.2.0",
      "model_name": "LayoutModel",
      "state": {}
     },
     "6023d3e0419c4d948d646ba94919735e": {
      "model_module": "@jupyter-widgets/controls",
      "model_module_version": "1.5.0",
      "model_name": "HBoxModel",
      "state": {
       "children": [
        "IPY_MODEL_e6b31299ba6e4b819b30ba3e3abd85d2",
        "IPY_MODEL_28c16ade34f340268fa7544dd7204f71"
       ],
       "layout": "IPY_MODEL_425de7a24809433dbb60cb968e8676d7"
      }
     },
     "606c11fa239143898dc382c3d7b5780c": {
      "model_module": "@jupyter-widgets/base",
      "model_module_version": "1.2.0",
      "model_name": "LayoutModel",
      "state": {}
     },
     "6817768abd034f2aa44157092d3616ad": {
      "model_module": "ipysheet",
      "model_module_version": "~0.4.3",
      "model_name": "CellRangeModel",
      "state": {
       "_view_module": null,
       "_view_module_version": "",
       "choice": [],
       "column_end": 0,
       "column_start": 0,
       "numeric_format": null,
       "row_end": 8,
       "row_start": 0,
       "squeeze_row": false,
       "type": "text",
       "value": [
        "stock",
        "price",
        "oil_price",
        "sale",
        "percent",
        "business",
        "revenue",
        "earnings",
        "quarter"
       ]
      }
     },
     "7baa6975379940d88d227813d070a7f7": {
      "model_module": "@jupyter-widgets/controls",
      "model_module_version": "1.5.0",
      "model_name": "DescriptionStyleModel",
      "state": {
       "description_width": ""
      }
     },
     "8ce5aaa71f0c419e895ece811a05af0d": {
      "model_module": "@jupyter-widgets/controls",
      "model_module_version": "1.5.0",
      "model_name": "DescriptionStyleModel",
      "state": {
       "description_width": ""
      }
     },
     "8e3b1bb9338440d6ae77282e73271403": {
      "model_module": "@jupyter-widgets/base",
      "model_module_version": "1.2.0",
      "model_name": "LayoutModel",
      "state": {}
     },
     "8fa1b14b020f41ee8e938768370ee52a": {
      "model_module": "@jupyter-widgets/controls",
      "model_module_version": "1.5.0",
      "model_name": "DescriptionStyleModel",
      "state": {
       "description_width": ""
      }
     },
     "95a26a403b044c8f9cb96a80e415f929": {
      "model_module": "@jupyter-widgets/base",
      "model_module_version": "1.2.0",
      "model_name": "LayoutModel",
      "state": {}
     },
     "a640ed9bdde5472b98f4eb5eb925ce4d": {
      "model_module": "ipysheet",
      "model_module_version": "~0.4.3",
      "model_name": "SheetModel",
      "state": {
       "cells": [
        "IPY_MODEL_141d70d53999478586a6dfebb9564685",
        "IPY_MODEL_f816d9001c7a4d3cbf77152132a14fe9",
        "IPY_MODEL_b1873f59f7274468b8e818b539d155c8",
        "IPY_MODEL_56af43ad23e44063a317d75fce35a85e",
        "IPY_MODEL_2d7cdb7ae9644ede80c90623e97482d9",
        "IPY_MODEL_1951c4f341aa4815addc31ed149d82c7"
       ],
       "column_headers": [
        "Action",
        "Romance",
        "Science Fiction",
        "Thriller",
        "War",
        "Western"
       ],
       "columns": 6,
       "layout": "IPY_MODEL_34f9672be43f4a46b92ca4d4b52da7f4",
       "row_headers": [
        "0",
        "1",
        "2",
        "3",
        "4",
        "5",
        "6"
       ],
       "rows": 7
      }
     },
     "b1873f59f7274468b8e818b539d155c8": {
      "model_module": "ipysheet",
      "model_module_version": "~0.4.3",
      "model_name": "CellRangeModel",
      "state": {
       "_view_module": null,
       "_view_module_version": "",
       "choice": [],
       "column_end": 2,
       "column_start": 2,
       "numeric_format": null,
       "row_end": 6,
       "row_start": 0,
       "squeeze_row": false,
       "type": "text",
       "value": [
        "science",
        "nan",
        "nan",
        "nan",
        "nan",
        "nan",
        "nan"
       ]
      }
     },
     "b618e5f7a6b748cb95c8417c50b580d9": {
      "model_module": "@jupyter-widgets/controls",
      "model_module_version": "1.5.0",
      "model_name": "HTMLModel",
      "state": {
       "layout": "IPY_MODEL_8e3b1bb9338440d6ae77282e73271403",
       "placeholder": "Enriched Dictionary",
       "style": "IPY_MODEL_ccdf63e7de0046b98891487355d6fff9",
       "value": "<h1>Enriched Dictionary</h1>"
      }
     },
     "bd923cb95bb347b795c2d77e1a101bb2": {
      "model_module": "ipysheet",
      "model_module_version": "~0.4.3",
      "model_name": "SheetModel",
      "state": {
       "cells": [
        "IPY_MODEL_6817768abd034f2aa44157092d3616ad",
        "IPY_MODEL_0d173aeb131a46c0a26d5daa7c76df53",
        "IPY_MODEL_21b427a46dfe4fda9ab949e251138b6d",
        "IPY_MODEL_4b19c88e06bd4b9ea87fba8f775d2f53"
       ],
       "column_headers": [
        "Business",
        "SciTech",
        "Sports",
        "World"
       ],
       "layout": "IPY_MODEL_c4b31c390abd4965870324479ba6a269",
       "row_headers": [
        "0",
        "1",
        "2",
        "3",
        "4",
        "5",
        "6",
        "7",
        "8"
       ],
       "rows": 9
      }
     },
     "c4b31c390abd4965870324479ba6a269": {
      "model_module": "@jupyter-widgets/base",
      "model_module_version": "1.2.0",
      "model_name": "LayoutModel",
      "state": {
       "height": "auto",
       "width": "auto"
      }
     },
     "c9de1359fee845b19baec78431a38c4e": {
      "model_module": "@jupyter-widgets/controls",
      "model_module_version": "1.5.0",
      "model_name": "HTMLModel",
      "state": {
       "layout": "IPY_MODEL_f4d297a8ca6a4f699b880c706c3e6df9",
       "placeholder": "Semi Automatic Labeller (Corgie) - Demo",
       "style": "IPY_MODEL_8fa1b14b020f41ee8e938768370ee52a",
       "value": "<h1>Semi Automatic Labeller (Corgie) - Demo</h1>"
      }
     },
     "ccdf63e7de0046b98891487355d6fff9": {
      "model_module": "@jupyter-widgets/controls",
      "model_module_version": "1.5.0",
      "model_name": "DescriptionStyleModel",
      "state": {
       "description_width": ""
      }
     },
     "cd9543798b594909ad93458f08c6980e": {
      "model_module": "@jupyter-widgets/controls",
      "model_module_version": "1.5.0",
      "model_name": "HTMLModel",
      "state": {
       "layout": "IPY_MODEL_606c11fa239143898dc382c3d7b5780c",
       "placeholder": "Predictions",
       "style": "IPY_MODEL_f5af291fd789476f9396f8ccc6c3cbac",
       "value": "<h1>Predictions</h1>"
      }
     },
     "d5231dc762eb4c0396a221cc0fb1ca3f": {
      "model_module": "@jupyter-widgets/base",
      "model_module_version": "1.2.0",
      "model_name": "LayoutModel",
      "state": {}
     },
     "d5fbf7ffb24d4b739f8cbaaf95e9982a": {
      "model_module": "@jupyter-widgets/base",
      "model_module_version": "1.2.0",
      "model_name": "LayoutModel",
      "state": {}
     },
     "d7eb1c42c8d44f35a174c8ba2323b7db": {
      "model_module": "@jupyter-widgets/controls",
      "model_module_version": "1.5.0",
      "model_name": "VBoxModel",
      "state": {
       "children": [
        "IPY_MODEL_c9de1359fee845b19baec78431a38c4e",
        "IPY_MODEL_6023d3e0419c4d948d646ba94919735e",
        "IPY_MODEL_e86d63beab3a458bb4a5679565a3e39b"
       ],
       "layout": "IPY_MODEL_d5fbf7ffb24d4b739f8cbaaf95e9982a"
      }
     },
     "e32597fff48f4dc28da15b5f4a1b0383": {
      "model_module": "@jupyter-widgets/base",
      "model_module_version": "1.2.0",
      "model_name": "LayoutModel",
      "state": {}
     },
     "e6b31299ba6e4b819b30ba3e3abd85d2": {
      "model_module": "@jupyter-widgets/controls",
      "model_module_version": "1.5.0",
      "model_name": "DropdownModel",
      "state": {
       "_options_labels": [
        "News",
        "Movies"
       ],
       "description": "Input Data:",
       "index": 1,
       "layout": "IPY_MODEL_95a26a403b044c8f9cb96a80e415f929",
       "style": "IPY_MODEL_7baa6975379940d88d227813d070a7f7"
      }
     },
     "e86d63beab3a458bb4a5679565a3e39b": {
      "model_module": "@jupyter-widgets/output",
      "model_module_version": "1.0.0",
      "model_name": "OutputModel",
      "state": {
       "layout": "IPY_MODEL_e32597fff48f4dc28da15b5f4a1b0383",
       "outputs": [
        {
         "data": {
          "text/html": "<div>\n<style scoped>\n    .dataframe tbody tr th:only-of-type {\n        vertical-align: middle;\n    }\n\n    .dataframe tbody tr th {\n        vertical-align: top;\n    }\n\n    .dataframe thead th {\n        text-align: right;\n    }\n</style>\n<table border=\"1\" class=\"dataframe\">\n  <thead>\n    <tr style=\"text-align: right;\">\n      <th></th>\n      <th>content</th>\n      <th>Action</th>\n      <th>Romance</th>\n      <th>Science Fiction</th>\n      <th>Thriller</th>\n      <th>War</th>\n      <th>Western</th>\n    </tr>\n  </thead>\n  <tbody>\n    <tr>\n      <td>0</td>\n      <td>A family wedding reignites the ancient feud be...</td>\n      <td>0</td>\n      <td>1</td>\n      <td>0</td>\n      <td>0</td>\n      <td>0</td>\n      <td>0</td>\n    </tr>\n    <tr>\n      <td>1</td>\n      <td>Cheated on, mistreated and stepped on, the wom...</td>\n      <td>0</td>\n      <td>1</td>\n      <td>0</td>\n      <td>0</td>\n      <td>0</td>\n      <td>0</td>\n    </tr>\n    <tr>\n      <td>2</td>\n      <td>Obsessive master thief, Neil McCauley leads a ...</td>\n      <td>1</td>\n      <td>0</td>\n      <td>0</td>\n      <td>1</td>\n      <td>0</td>\n      <td>0</td>\n    </tr>\n    <tr>\n      <td>3</td>\n      <td>An ugly duckling having undergone a remarkable...</td>\n      <td>0</td>\n      <td>1</td>\n      <td>0</td>\n      <td>0</td>\n      <td>0</td>\n      <td>0</td>\n    </tr>\n    <tr>\n      <td>4</td>\n      <td>A mischievous young boy, Tom Sawyer, witnesses...</td>\n      <td>1</td>\n      <td>0</td>\n      <td>0</td>\n      <td>0</td>\n      <td>0</td>\n      <td>0</td>\n    </tr>\n    <tr>\n      <td>...</td>\n      <td>...</td>\n      <td>...</td>\n      <td>...</td>\n      <td>...</td>\n      <td>...</td>\n      <td>...</td>\n      <td>...</td>\n    </tr>\n    <tr>\n      <td>495</td>\n      <td>A misogynistic and snobbish phonetics professo...</td>\n      <td>0</td>\n      <td>1</td>\n      <td>0</td>\n      <td>0</td>\n      <td>0</td>\n      <td>0</td>\n    </tr>\n    <tr>\n      <td>496</td>\n      <td>Linus and David Larrabee are the two sons of a...</td>\n      <td>0</td>\n      <td>1</td>\n      <td>0</td>\n      <td>0</td>\n      <td>0</td>\n      <td>0</td>\n    </tr>\n    <tr>\n      <td>497</td>\n      <td>Overwhelmed by her suffocating schedule, touri...</td>\n      <td>0</td>\n      <td>1</td>\n      <td>0</td>\n      <td>0</td>\n      <td>0</td>\n      <td>0</td>\n    </tr>\n    <tr>\n      <td>498</td>\n      <td>In the year before the 1904 St Louis World's F...</td>\n      <td>0</td>\n      <td>1</td>\n      <td>0</td>\n      <td>0</td>\n      <td>0</td>\n      <td>0</td>\n    </tr>\n    <tr>\n      <td>499</td>\n      <td>An American classic in which a manipulative wo...</td>\n      <td>0</td>\n      <td>1</td>\n      <td>0</td>\n      <td>0</td>\n      <td>1</td>\n      <td>0</td>\n    </tr>\n  </tbody>\n</table>\n<p>500 rows × 7 columns</p>\n</div>",
          "text/plain": "                                               content  Action  Romance  \\\n0    A family wedding reignites the ancient feud be...       0        1   \n1    Cheated on, mistreated and stepped on, the wom...       0        1   \n2    Obsessive master thief, Neil McCauley leads a ...       1        0   \n3    An ugly duckling having undergone a remarkable...       0        1   \n4    A mischievous young boy, Tom Sawyer, witnesses...       1        0   \n..                                                 ...     ...      ...   \n495  A misogynistic and snobbish phonetics professo...       0        1   \n496  Linus and David Larrabee are the two sons of a...       0        1   \n497  Overwhelmed by her suffocating schedule, touri...       0        1   \n498  In the year before the 1904 St Louis World's F...       0        1   \n499  An American classic in which a manipulative wo...       0        1   \n\n     Science Fiction  Thriller  War  Western  \n0                  0         0    0        0  \n1                  0         0    0        0  \n2                  0         1    0        0  \n3                  0         0    0        0  \n4                  0         0    0        0  \n..               ...       ...  ...      ...  \n495                0         0    0        0  \n496                0         0    0        0  \n497                0         0    0        0  \n498                0         0    0        0  \n499                0         0    1        0  \n\n[500 rows x 7 columns]"
         },
         "metadata": {},
         "output_type": "display_data"
        },
        {
         "data": {
          "application/vnd.jupyter.widget-view+json": {
           "model_id": "0b987fc324ea4862ac34d48d2011223e",
           "version_major": 2,
           "version_minor": 0
          },
          "text/plain": "HTML(value='<h1>List of recommended words</h1>', placeholder='List of recommended words')"
         },
         "metadata": {},
         "output_type": "display_data"
        },
        {
         "data": {
          "text/html": "<div>\n<style scoped>\n    .dataframe tbody tr th:only-of-type {\n        vertical-align: middle;\n    }\n\n    .dataframe tbody tr th {\n        vertical-align: top;\n    }\n\n    .dataframe thead th {\n        text-align: right;\n    }\n</style>\n<table border=\"1\" class=\"dataframe\">\n  <thead>\n    <tr style=\"text-align: right;\">\n      <th></th>\n      <th>0</th>\n      <th>1</th>\n      <th>2</th>\n      <th>3</th>\n      <th>4</th>\n      <th>5</th>\n      <th>6</th>\n      <th>7</th>\n      <th>8</th>\n      <th>9</th>\n    </tr>\n  </thead>\n  <tbody>\n    <tr>\n      <td>0</td>\n      <td>man</td>\n      <td>demon</td>\n      <td>convince</td>\n      <td>story</td>\n      <td>discovers</td>\n      <td>political</td>\n      <td>guest</td>\n      <td>friend</td>\n      <td>true</td>\n      <td>like</td>\n    </tr>\n    <tr>\n      <td>1</td>\n      <td>love</td>\n      <td>fall</td>\n      <td>french</td>\n      <td>student</td>\n      <td>king</td>\n      <td>two</td>\n      <td>play</td>\n      <td>romantic</td>\n      <td>story</td>\n      <td>dr</td>\n    </tr>\n    <tr>\n      <td>2</td>\n      <td>young</td>\n      <td>husband</td>\n      <td>try</td>\n      <td>officer</td>\n      <td>beautiful</td>\n      <td>story</td>\n      <td>dangerous</td>\n      <td>help</td>\n      <td>boy</td>\n      <td>home</td>\n    </tr>\n    <tr>\n      <td>3</td>\n      <td>killer</td>\n      <td>serial</td>\n      <td>detective</td>\n      <td>law</td>\n      <td>female</td>\n      <td>victim</td>\n      <td>violence</td>\n      <td>person</td>\n      <td>gay</td>\n      <td>one</td>\n    </tr>\n    <tr>\n      <td>4</td>\n      <td>daughter</td>\n      <td>wife</td>\n      <td>face</td>\n      <td>leave</td>\n      <td>suffer</td>\n      <td>die</td>\n      <td>car</td>\n      <td>accident</td>\n      <td>second</td>\n      <td>poor</td>\n    </tr>\n    <tr>\n      <td>5</td>\n      <td>team</td>\n      <td>stop</td>\n      <td>evil</td>\n      <td>try</td>\n      <td>former</td>\n      <td>cop</td>\n      <td>computer</td>\n      <td>agent</td>\n      <td>kgb</td>\n      <td>protect</td>\n    </tr>\n    <tr>\n      <td>6</td>\n      <td>woman</td>\n      <td>town</td>\n      <td>come</td>\n      <td>pursue</td>\n      <td>small</td>\n      <td>notorious</td>\n      <td>beautiful</td>\n      <td>mysterious</td>\n      <td>work</td>\n      <td>comedy</td>\n    </tr>\n    <tr>\n      <td>7</td>\n      <td>film</td>\n      <td>story</td>\n      <td>work</td>\n      <td>tell</td>\n      <td>base</td>\n      <td>red</td>\n      <td>comedy</td>\n      <td>set</td>\n      <td>boy</td>\n      <td>strange</td>\n    </tr>\n    <tr>\n      <td>8</td>\n      <td>get</td>\n      <td>thing</td>\n      <td>friend</td>\n      <td>go</td>\n      <td>best</td>\n      <td>marry</td>\n      <td>tell</td>\n      <td>old</td>\n      <td>help</td>\n      <td>marriage</td>\n    </tr>\n    <tr>\n      <td>9</td>\n      <td>find</td>\n      <td>new</td>\n      <td>way</td>\n      <td>time</td>\n      <td>hit</td>\n      <td>job</td>\n      <td>secret</td>\n      <td>die</td>\n      <td>friend</td>\n      <td>make</td>\n    </tr>\n    <tr>\n      <td>10</td>\n      <td>take</td>\n      <td>one</td>\n      <td>meet</td>\n      <td>become</td>\n      <td>plan</td>\n      <td>job</td>\n      <td>decide</td>\n      <td>involve</td>\n      <td>night</td>\n      <td>son</td>\n    </tr>\n    <tr>\n      <td>11</td>\n      <td>american</td>\n      <td>war</td>\n      <td>expatriate</td>\n      <td>paris</td>\n      <td>affair</td>\n      <td>world</td>\n      <td>ii</td>\n      <td>arrive</td>\n      <td>france</td>\n      <td>meet</td>\n    </tr>\n    <tr>\n      <td>12</td>\n      <td>family</td>\n      <td>father</td>\n      <td>search</td>\n      <td>year</td>\n      <td>irish</td>\n      <td>son</td>\n      <td>neighbor</td>\n      <td>widow</td>\n      <td>marriage</td>\n      <td>farm</td>\n    </tr>\n    <tr>\n      <td>13</td>\n      <td>drug</td>\n      <td>want</td>\n      <td>name</td>\n      <td>operation</td>\n      <td>lord</td>\n      <td>local</td>\n      <td>sell</td>\n      <td>cia</td>\n      <td>undercover</td>\n      <td>agent</td>\n    </tr>\n    <tr>\n      <td>14</td>\n      <td>life</td>\n      <td>move</td>\n      <td>learn</td>\n      <td>housewife</td>\n      <td>friend</td>\n      <td>four</td>\n      <td>day</td>\n      <td>end</td>\n      <td>lesbian</td>\n      <td>year</td>\n    </tr>\n    <tr>\n      <td>15</td>\n      <td>school</td>\n      <td>girl</td>\n      <td>high</td>\n      <td>parent</td>\n      <td>teacher</td>\n      <td>go</td>\n      <td>trip</td>\n      <td>society</td>\n      <td>come</td>\n      <td>city</td>\n    </tr>\n    <tr>\n      <td>16</td>\n      <td>criminal</td>\n      <td>police</td>\n      <td>leader</td>\n      <td>kill</td>\n      <td>run</td>\n      <td>know</td>\n      <td>group</td>\n      <td>old</td>\n      <td>money</td>\n      <td>kidnap</td>\n    </tr>\n    <tr>\n      <td>17</td>\n      <td>murder</td>\n      <td>two</td>\n      <td>run</td>\n      <td>accuse</td>\n      <td>project</td>\n      <td>put</td>\n      <td>girlfriend</td>\n      <td>crime</td>\n      <td>boy</td>\n      <td>investigate</td>\n    </tr>\n  </tbody>\n</table>\n</div>",
          "text/plain": "           0        1           2          3          4          5  \\\n0        man    demon    convince      story  discovers  political   \n1       love     fall      french    student       king        two   \n2      young  husband         try    officer  beautiful      story   \n3     killer   serial   detective        law     female     victim   \n4   daughter     wife        face      leave     suffer        die   \n5       team     stop        evil        try     former        cop   \n6      woman     town        come     pursue      small  notorious   \n7       film    story        work       tell       base        red   \n8        get    thing      friend         go       best      marry   \n9       find      new         way       time        hit        job   \n10      take      one        meet     become       plan        job   \n11  american      war  expatriate      paris     affair      world   \n12    family   father      search       year      irish        son   \n13      drug     want        name  operation       lord      local   \n14      life     move       learn  housewife     friend       four   \n15    school     girl        high     parent    teacher         go   \n16  criminal   police      leader       kill        run       know   \n17    murder      two         run     accuse    project        put   \n\n             6           7           8            9  \n0        guest      friend        true         like  \n1         play    romantic       story           dr  \n2    dangerous        help         boy         home  \n3     violence      person         gay          one  \n4          car    accident      second         poor  \n5     computer       agent         kgb      protect  \n6    beautiful  mysterious        work       comedy  \n7       comedy         set         boy      strange  \n8         tell         old        help     marriage  \n9       secret         die      friend         make  \n10      decide     involve       night          son  \n11          ii      arrive      france         meet  \n12    neighbor       widow    marriage         farm  \n13        sell         cia  undercover        agent  \n14         day         end     lesbian         year  \n15        trip     society        come         city  \n16       group         old       money       kidnap  \n17  girlfriend       crime         boy  investigate  "
         },
         "metadata": {},
         "output_type": "display_data"
        },
        {
         "data": {
          "application/vnd.jupyter.widget-view+json": {
           "model_id": "4f322ffc7d0c44eeabb1c795328348fc",
           "version_major": 2,
           "version_minor": 0
          },
          "text/plain": "HTML(value='<h1>Label Dictionary</h1>', placeholder='Label Dictionary')"
         },
         "metadata": {},
         "output_type": "display_data"
        },
        {
         "data": {
          "application/vnd.jupyter.widget-view+json": {
           "model_id": "a640ed9bdde5472b98f4eb5eb925ce4d",
           "version_major": 2,
           "version_minor": 0
          },
          "text/plain": "Sheet(cells=(Cell(choice=[], column_end=0, column_start=0, numeric_format=None, row_end=6, row_start=0, squeez…"
         },
         "metadata": {},
         "output_type": "display_data"
        },
        {
         "data": {
          "application/vnd.jupyter.widget-view+json": {
           "model_id": "b618e5f7a6b748cb95c8417c50b580d9",
           "version_major": 2,
           "version_minor": 0
          },
          "text/plain": "HTML(value='<h1>Enriched Dictionary</h1>', placeholder='Enriched Dictionary')"
         },
         "metadata": {},
         "output_type": "display_data"
        },
        {
         "data": {
          "text/html": "<div>\n<style scoped>\n    .dataframe tbody tr th:only-of-type {\n        vertical-align: middle;\n    }\n\n    .dataframe tbody tr th {\n        vertical-align: top;\n    }\n\n    .dataframe thead th {\n        text-align: right;\n    }\n</style>\n<table border=\"1\" class=\"dataframe\">\n  <thead>\n    <tr style=\"text-align: right;\">\n      <th></th>\n      <th>Action</th>\n      <th>Romance</th>\n      <th>Science Fiction</th>\n      <th>Thriller</th>\n      <th>War</th>\n      <th>Western</th>\n    </tr>\n  </thead>\n  <tbody>\n    <tr>\n      <td>0</td>\n      <td>love</td>\n      <td>love</td>\n      <td>terrorist</td>\n      <td>cop</td>\n      <td>love</td>\n      <td>yearold</td>\n    </tr>\n    <tr>\n      <td>1</td>\n      <td>yearold</td>\n      <td>boyfriend</td>\n      <td>science</td>\n      <td>retired</td>\n      <td>science</td>\n      <td>terrorist</td>\n    </tr>\n    <tr>\n      <td>2</td>\n      <td>terrorist</td>\n      <td>throw</td>\n      <td>havoc</td>\n      <td>manage</td>\n      <td>ii</td>\n      <td>retired</td>\n    </tr>\n    <tr>\n      <td>3</td>\n      <td>ii</td>\n      <td>fall</td>\n      <td>attend</td>\n      <td>next</td>\n      <td>modern</td>\n      <td>clean</td>\n    </tr>\n    <tr>\n      <td>4</td>\n      <td>clean</td>\n      <td>street</td>\n      <td>view</td>\n      <td>kill</td>\n      <td>fall</td>\n      <td>fall</td>\n    </tr>\n    <tr>\n      <td>5</td>\n      <td>fall</td>\n      <td>married</td>\n      <td>army</td>\n      <td>assign</td>\n      <td>compete</td>\n      <td>street</td>\n    </tr>\n    <tr>\n      <td>6</td>\n      <td>street</td>\n      <td>hollywood</td>\n      <td>different</td>\n      <td>trail</td>\n      <td>expatriate</td>\n      <td>kill</td>\n    </tr>\n    <tr>\n      <td>7</td>\n      <td>kgb</td>\n      <td>world</td>\n      <td>intrigue</td>\n      <td>law</td>\n      <td>attend</td>\n      <td>assign</td>\n    </tr>\n    <tr>\n      <td>8</td>\n      <td>world</td>\n      <td>war</td>\n      <td>side</td>\n      <td>detective</td>\n      <td>view</td>\n      <td>trail</td>\n    </tr>\n    <tr>\n      <td>9</td>\n      <td>current</td>\n      <td>marriage</td>\n      <td>marry</td>\n      <td>personal</td>\n      <td>world</td>\n      <td>detective</td>\n    </tr>\n    <tr>\n      <td>10</td>\n      <td>war</td>\n      <td>marry</td>\n      <td>assign</td>\n      <td>killer</td>\n      <td>war</td>\n      <td>killer</td>\n    </tr>\n    <tr>\n      <td>11</td>\n      <td>kill</td>\n      <td>romantic</td>\n      <td>personal</td>\n      <td>wife</td>\n      <td>bunch</td>\n      <td>wife</td>\n    </tr>\n    <tr>\n      <td>12</td>\n      <td>romantic</td>\n      <td>idea</td>\n      <td>challenge</td>\n      <td>clue</td>\n      <td>introduce</td>\n      <td>agent</td>\n    </tr>\n    <tr>\n      <td>13</td>\n      <td>wife</td>\n      <td>wife</td>\n      <td>wife</td>\n      <td>innocence</td>\n      <td>romantic</td>\n      <td>victim</td>\n    </tr>\n    <tr>\n      <td>14</td>\n      <td>agent</td>\n      <td>inmate</td>\n      <td>nuclear</td>\n      <td>victim</td>\n      <td>challenge</td>\n      <td>criminal</td>\n    </tr>\n    <tr>\n      <td>15</td>\n      <td>kidnap</td>\n      <td>comedy</td>\n      <td>comedy</td>\n      <td>agent</td>\n      <td>comedy</td>\n      <td>case</td>\n    </tr>\n    <tr>\n      <td>16</td>\n      <td>criminal</td>\n      <td>intense</td>\n      <td>case</td>\n      <td>serial</td>\n      <td>serial</td>\n      <td>gang</td>\n    </tr>\n    <tr>\n      <td>17</td>\n      <td>gang</td>\n      <td>struggle</td>\n      <td>america</td>\n      <td>criminal</td>\n      <td>notorious</td>\n      <td>operation</td>\n    </tr>\n    <tr>\n      <td>18</td>\n      <td>operation</td>\n      <td>violent</td>\n      <td>danger</td>\n      <td>case</td>\n      <td>america</td>\n      <td>violent</td>\n    </tr>\n    <tr>\n      <td>19</td>\n      <td>struggle</td>\n      <td>grows</td>\n      <td>reason</td>\n      <td>notorious</td>\n      <td>center</td>\n      <td>revenge</td>\n    </tr>\n    <tr>\n      <td>20</td>\n      <td>violent</td>\n      <td>resolve</td>\n      <td>resolve</td>\n      <td>danger</td>\n      <td>struggle</td>\n      <td>murderer</td>\n    </tr>\n    <tr>\n      <td>21</td>\n      <td>revenge</td>\n      <td>None</td>\n      <td>None</td>\n      <td>murderer</td>\n      <td>None</td>\n      <td>None</td>\n    </tr>\n  </tbody>\n</table>\n</div>",
          "text/plain": "       Action    Romance Science Fiction   Thriller         War    Western\n0        love       love       terrorist        cop        love    yearold\n1     yearold  boyfriend         science    retired     science  terrorist\n2   terrorist      throw           havoc     manage          ii    retired\n3          ii       fall          attend       next      modern      clean\n4       clean     street            view       kill        fall       fall\n5        fall    married            army     assign     compete     street\n6      street  hollywood       different      trail  expatriate       kill\n7         kgb      world        intrigue        law      attend     assign\n8       world        war            side  detective        view      trail\n9     current   marriage           marry   personal       world  detective\n10        war      marry          assign     killer         war     killer\n11       kill   romantic        personal       wife       bunch       wife\n12   romantic       idea       challenge       clue   introduce      agent\n13       wife       wife            wife  innocence    romantic     victim\n14      agent     inmate         nuclear     victim   challenge   criminal\n15     kidnap     comedy          comedy      agent      comedy       case\n16   criminal    intense            case     serial      serial       gang\n17       gang   struggle         america   criminal   notorious  operation\n18  operation    violent          danger       case     america    violent\n19   struggle      grows          reason  notorious      center    revenge\n20    violent    resolve         resolve     danger    struggle   murderer\n21    revenge       None            None   murderer        None       None"
         },
         "metadata": {},
         "output_type": "display_data"
        },
        {
         "data": {
          "application/vnd.jupyter.widget-view+json": {
           "model_id": "cd9543798b594909ad93458f08c6980e",
           "version_major": 2,
           "version_minor": 0
          },
          "text/plain": "HTML(value='<h1>Predictions</h1>', placeholder='Predictions')"
         },
         "metadata": {},
         "output_type": "display_data"
        },
        {
         "data": {
          "text/html": "<div>\n<style scoped>\n    .dataframe tbody tr th:only-of-type {\n        vertical-align: middle;\n    }\n\n    .dataframe tbody tr th {\n        vertical-align: top;\n    }\n\n    .dataframe thead th {\n        text-align: right;\n    }\n</style>\n<table border=\"1\" class=\"dataframe\">\n  <thead>\n    <tr style=\"text-align: right;\">\n      <th></th>\n      <th>content</th>\n      <th>Action</th>\n      <th>Romance</th>\n      <th>Science Fiction</th>\n      <th>Thriller</th>\n      <th>War</th>\n      <th>Western</th>\n    </tr>\n  </thead>\n  <tbody>\n    <tr>\n      <td>0</td>\n      <td>family wedding reignite ancient feud nextdoor ...</td>\n      <td>1.0</td>\n      <td>0.0</td>\n      <td>0.0</td>\n      <td>0.0</td>\n      <td>0.0</td>\n      <td>1.0</td>\n    </tr>\n    <tr>\n      <td>1</td>\n      <td>cheat mistreat step woman hold breath wait elu...</td>\n      <td>1.0</td>\n      <td>0.0</td>\n      <td>0.0</td>\n      <td>1.0</td>\n      <td>0.0</td>\n      <td>0.0</td>\n    </tr>\n    <tr>\n      <td>2</td>\n      <td>obsessive master thief lead topnotch crew vari...</td>\n      <td>0.0</td>\n      <td>1.0</td>\n      <td>1.0</td>\n      <td>1.0</td>\n      <td>0.0</td>\n      <td>1.0</td>\n    </tr>\n    <tr>\n      <td>3</td>\n      <td>duckling undergone remarkable change harbor fe...</td>\n      <td>1.0</td>\n      <td>1.0</td>\n      <td>1.0</td>\n      <td>0.0</td>\n      <td>0.0</td>\n      <td>1.0</td>\n    </tr>\n    <tr>\n      <td>4</td>\n      <td>mischievous young boy witness murder becomes f...</td>\n      <td>0.0</td>\n      <td>0.0</td>\n      <td>0.0</td>\n      <td>0.0</td>\n      <td>0.0</td>\n      <td>0.0</td>\n    </tr>\n    <tr>\n      <td>...</td>\n      <td>...</td>\n      <td>...</td>\n      <td>...</td>\n      <td>...</td>\n      <td>...</td>\n      <td>...</td>\n      <td>...</td>\n    </tr>\n    <tr>\n      <td>495</td>\n      <td>misogynistic snobbish phonetics professor agre...</td>\n      <td>1.0</td>\n      <td>0.0</td>\n      <td>0.0</td>\n      <td>0.0</td>\n      <td>0.0</td>\n      <td>0.0</td>\n    </tr>\n    <tr>\n      <td>496</td>\n      <td>two son wealthy family work run family corpora...</td>\n      <td>1.0</td>\n      <td>1.0</td>\n      <td>0.0</td>\n      <td>0.0</td>\n      <td>0.0</td>\n      <td>0.0</td>\n    </tr>\n    <tr>\n      <td>497</td>\n      <td>overwhelm suffocating schedule tour european p...</td>\n      <td>0.0</td>\n      <td>1.0</td>\n      <td>1.0</td>\n      <td>1.0</td>\n      <td>0.0</td>\n      <td>0.0</td>\n    </tr>\n    <tr>\n      <td>498</td>\n      <td>year four smith daughter learn lesson life lov...</td>\n      <td>1.0</td>\n      <td>1.0</td>\n      <td>0.0</td>\n      <td>0.0</td>\n      <td>0.0</td>\n      <td>0.0</td>\n    </tr>\n    <tr>\n      <td>499</td>\n      <td>american classic manipulative woman roguish ma...</td>\n      <td>0.0</td>\n      <td>1.0</td>\n      <td>0.0</td>\n      <td>0.0</td>\n      <td>1.0</td>\n      <td>0.0</td>\n    </tr>\n  </tbody>\n</table>\n<p>500 rows × 7 columns</p>\n</div>",
          "text/plain": "                                               content  Action  Romance  \\\n0    family wedding reignite ancient feud nextdoor ...     1.0      0.0   \n1    cheat mistreat step woman hold breath wait elu...     1.0      0.0   \n2    obsessive master thief lead topnotch crew vari...     0.0      1.0   \n3    duckling undergone remarkable change harbor fe...     1.0      1.0   \n4    mischievous young boy witness murder becomes f...     0.0      0.0   \n..                                                 ...     ...      ...   \n495  misogynistic snobbish phonetics professor agre...     1.0      0.0   \n496  two son wealthy family work run family corpora...     1.0      1.0   \n497  overwhelm suffocating schedule tour european p...     0.0      1.0   \n498  year four smith daughter learn lesson life lov...     1.0      1.0   \n499  american classic manipulative woman roguish ma...     0.0      1.0   \n\n     Science Fiction  Thriller  War  Western  \n0                0.0       0.0  0.0      1.0  \n1                0.0       1.0  0.0      0.0  \n2                1.0       1.0  0.0      1.0  \n3                1.0       0.0  0.0      1.0  \n4                0.0       0.0  0.0      0.0  \n..               ...       ...  ...      ...  \n495              0.0       0.0  0.0      0.0  \n496              0.0       0.0  0.0      0.0  \n497              1.0       1.0  0.0      0.0  \n498              0.0       0.0  0.0      0.0  \n499              0.0       0.0  1.0      0.0  \n\n[500 rows x 7 columns]"
         },
         "metadata": {},
         "output_type": "display_data"
        }
       ]
      }
     },
     "f4d297a8ca6a4f699b880c706c3e6df9": {
      "model_module": "@jupyter-widgets/base",
      "model_module_version": "1.2.0",
      "model_name": "LayoutModel",
      "state": {}
     },
     "f5af291fd789476f9396f8ccc6c3cbac": {
      "model_module": "@jupyter-widgets/controls",
      "model_module_version": "1.5.0",
      "model_name": "DescriptionStyleModel",
      "state": {
       "description_width": ""
      }
     },
     "f816d9001c7a4d3cbf77152132a14fe9": {
      "model_module": "ipysheet",
      "model_module_version": "~0.4.3",
      "model_name": "CellRangeModel",
      "state": {
       "_view_module": null,
       "_view_module_version": "",
       "choice": [],
       "numeric_format": null,
       "row_end": 6,
       "row_start": 0,
       "squeeze_row": false,
       "type": "text",
       "value": [
        "love",
        "french",
        "romantic",
        "marry",
        "marriage",
        "boyfriend",
        "wife"
       ]
      }
     },
     "fd0c99fcd91145d7a999f4fc981230d0": {
      "model_module": "@jupyter-widgets/base",
      "model_module_version": "1.2.0",
      "model_name": "LayoutModel",
      "state": {}
     }
    },
    "version_major": 2,
    "version_minor": 0
   }
  }
 },
 "nbformat": 4,
 "nbformat_minor": 4
}
